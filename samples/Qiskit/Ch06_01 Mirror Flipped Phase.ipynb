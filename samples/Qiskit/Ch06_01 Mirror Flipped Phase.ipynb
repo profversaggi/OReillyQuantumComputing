{
 "cells": [
  {
   "cell_type": "markdown",
   "metadata": {},
   "source": [
    "# Apply mirror to flipped phase"
   ]
  },
  {
   "cell_type": "markdown",
   "metadata": {},
   "source": [
    "![Mirror Flipped Phase](img/mirror_flipped_phase.png \"Mirror Flipped Phase\")"
   ]
  },
  {
   "cell_type": "code",
   "execution_count": 3,
   "metadata": {
    "scrolled": false
   },
   "outputs": [
    {
     "data": {
      "text/html": [
       "\n",
       "        <iframe\n",
       "            width=\"900\"\n",
       "            height=\"900\"\n",
       "            src=\"http://oreilly-qc.github.io?p=6-1\"\n",
       "            frameborder=\"0\"\n",
       "            allowfullscreen\n",
       "        ></iframe>\n",
       "        "
      ],
      "text/plain": [
       "<IPython.lib.display.IFrame at 0x2995b257fd0>"
      ]
     },
     "execution_count": 3,
     "metadata": {},
     "output_type": "execute_result"
    }
   ],
   "source": [
    "from IPython.display import IFrame\n",
    "IFrame(src='http://oreilly-qc.github.io?p=6-1', width=900, height=900)"
   ]
  },
  {
   "cell_type": "code",
   "execution_count": 4,
   "metadata": {
    "scrolled": true
   },
   "outputs": [],
   "source": [
    "from qiskit import QuantumCircuit, QuantumRegister, ClassicalRegister, execute, Aer, IBMQ, BasicAer\n",
    "import math\n",
    "## Uncomment the next line to see diagrams when running in a notebook\n",
    "%matplotlib inline"
   ]
  },
  {
   "cell_type": "code",
   "execution_count": 5,
   "metadata": {
    "scrolled": true
   },
   "outputs": [],
   "source": [
    "## Example 6-1: Apply mirror to flipped phase\n",
    "\n",
    "## Note that this looks different from the gates in the book, because\n",
    "## we're building the operations from Toffoli gates\n",
    "\n",
    "# Set up the program\n",
    "reg = QuantumRegister(4, name='reg')\n",
    "scratch = QuantumRegister(1, name='scratch')\n",
    "qc = QuantumCircuit(reg, scratch)"
   ]
  },
  {
   "cell_type": "code",
   "execution_count": 6,
   "metadata": {
    "scrolled": true
   },
   "outputs": [],
   "source": [
    "def main():\n",
    "    number_to_flip = 3\n",
    "    number_of_iterations = 4\n",
    "\n",
    "    qc.h(reg)\n",
    "\n",
    "    for i in range(number_of_iterations):\n",
    "        ## Flip the marked value\n",
    "        qc.barrier()\n",
    "        x_bits = ~number_to_flip\n",
    "        x_list = [reg[x] for x in range(len(reg)) if x_bits & (1 << x)]\n",
    "        qc.x(x_list)\n",
    "        multi_cz([x for x in reg])\n",
    "        qc.x(x_list)\n",
    "\n",
    "        qc.barrier()\n",
    "        Grover(reg)"
   ]
  },
  {
   "cell_type": "code",
   "execution_count": 7,
   "metadata": {},
   "outputs": [],
   "source": [
    "###############################################\n",
    "## Some utility functions\n",
    "\n",
    "def Grover(qreg, condition_qubits=None):\n",
    "    if condition_qubits is None:\n",
    "        condition_qubits = []\n",
    "    qc.h(qreg)\n",
    "    qc.x(qreg)\n",
    "    multi_cz([x for x in qreg] + condition_qubits)\n",
    "    qc.x(qreg)\n",
    "    qc.h(qreg)\n",
    "\n",
    "def multi_cz(qubits):\n",
    "    ## This will perform a CCCCCZ on as many qubits as we want,\n",
    "    ## as long as we have enough scratch qubits\n",
    "    multi_cx(qubits, do_cz=True)\n",
    "\n",
    "def multi_cx(qubits, do_cz=False):\n",
    "    ## This will perform a CCCCCX with as many conditions as we want,\n",
    "    ## as long as we have enough scratch qubits\n",
    "    ## The last qubit in the list is the target.\n",
    "    target = qubits[-1]\n",
    "    conds = qubits[:-1]\n",
    "    scratch_index = 0\n",
    "    ops = []\n",
    "    while len(conds) > 2:\n",
    "        new_conds = []\n",
    "        for i in range(len(conds)//2):\n",
    "            ops.append((conds[i * 2], conds[i * 2 + 1], scratch[scratch_index]))\n",
    "            new_conds.append(scratch[scratch_index])\n",
    "            scratch_index += 1\n",
    "        if len(conds) & 1:\n",
    "            new_conds.append(conds[-1])\n",
    "        conds = new_conds\n",
    "    for op in ops:\n",
    "        qc.ccx(op[0], op[1], op[2])\n",
    "    if do_cz:\n",
    "        qc.h(target)\n",
    "    if len(conds) == 0:\n",
    "        qc.x(target)\n",
    "    elif len(conds) == 1:\n",
    "        qc.cx(conds[0], target)\n",
    "    else:\n",
    "        qc.ccx(conds[0], conds[1], target)\n",
    "    if do_cz:\n",
    "        qc.h(target)\n",
    "    ops.reverse()\n",
    "    for op in ops:\n",
    "        qc.ccx(op[0], op[1], op[2])"
   ]
  },
  {
   "cell_type": "code",
   "execution_count": 8,
   "metadata": {},
   "outputs": [],
   "source": [
    "main()"
   ]
  },
  {
   "cell_type": "code",
   "execution_count": 9,
   "metadata": {},
   "outputs": [],
   "source": [
    "## That's the program. Everything below runs and draws it.\n",
    "\n",
    "backend = BasicAer.get_backend('statevector_simulator')\n",
    "job = execute(qc, backend)\n",
    "result = job.result()"
   ]
  },
  {
   "cell_type": "code",
   "execution_count": 10,
   "metadata": {
    "scrolled": true
   },
   "outputs": [
    {
     "name": "stdout",
     "output_type": "stream",
     "text": [
      "|0> (-0.167+0j) probability = 2.7889%\n",
      "|1> (-0.167+0j) probability = 2.7889%\n",
      "|2> (-0.167+0j) probability = 2.7889%\n",
      "|3> (0.763-0j) probability = 58.2169%\n",
      "|4> (-0.167+0j) probability = 2.7889%\n",
      "|5> (-0.167+0j) probability = 2.7889%\n",
      "|6> (-0.167+0j) probability = 2.7889%\n",
      "|7> (-0.167+0j) probability = 2.7889%\n",
      "|8> (-0.167+0j) probability = 2.7889%\n",
      "|9> (-0.167+0j) probability = 2.7889%\n",
      "|10> (-0.167+0j) probability = 2.7889%\n",
      "|11> (-0.167+0j) probability = 2.7889%\n",
      "|12> (-0.167+0j) probability = 2.7889%\n",
      "|13> (-0.167+0j) probability = 2.7889%\n",
      "|14> (-0.167+0j) probability = 2.7889%\n",
      "|15> (-0.167+0j) probability = 2.7889%\n",
      "Total probability: 100%\n"
     ]
    },
    {
     "data": {
      "text/html": [
       "<pre style=\"word-wrap: normal;white-space: pre;background: #fff0;line-height: 1.1;font-family: &quot;Courier New&quot;,Courier,monospace\">              ┌───┐ ░                                     ░ ┌───┐┌───┐     »\n",
       "    reg_0: |0>┤ H ├─░────────■───────────────────■────────░─┤ H ├┤ X ├──■──»\n",
       "              ├───┤ ░        │                   │        ░ ├───┤├───┤  │  »\n",
       "    reg_1: |0>┤ H ├─░────────■───────────────────■────────░─┤ H ├┤ X ├──■──»\n",
       "              ├───┤ ░ ┌───┐  │            ┌───┐  │        ░ ├───┤├───┤  │  »\n",
       "    reg_2: |0>┤ H ├─░─┤ X ├──┼─────────■──┤ X ├──┼────────░─┤ H ├┤ X ├──┼──»\n",
       "              ├───┤ ░ ├───┤  │  ┌───┐┌─┴─┐├───┤  │  ┌───┐ ░ ├───┤├───┤  │  »\n",
       "    reg_3: |0>┤ H ├─░─┤ X ├──┼──┤ H ├┤ X ├┤ H ├──┼──┤ X ├─░─┤ H ├┤ X ├──┼──»\n",
       "              └───┘ ░ └───┘┌─┴─┐└───┘└─┬─┘└───┘┌─┴─┐└───┘ ░ └───┘└───┘┌─┴─┐»\n",
       "scratch_0: |0>──────░──────┤ X ├───────■───────┤ X ├──────░───────────┤ X ├»\n",
       "                    ░      └───┘               └───┘      ░           └───┘»\n",
       "«                               ┌───┐┌───┐ ░                               »\n",
       "«    reg_0: ─────────────────■──┤ X ├┤ H ├─░────────■───────────────────■──»\n",
       "«                            │  ├───┤├───┤ ░        │                   │  »\n",
       "«    reg_1: ─────────────────■──┤ X ├┤ H ├─░────────■───────────────────■──»\n",
       "«                     ┌───┐  │  ├───┤└───┘ ░ ┌───┐  │            ┌───┐  │  »\n",
       "«    reg_2: ───────■──┤ X ├──┼──┤ H ├──────░─┤ X ├──┼─────────■──┤ X ├──┼──»\n",
       "«           ┌───┐┌─┴─┐├───┤  │  ├───┤┌───┐ ░ ├───┤  │  ┌───┐┌─┴─┐├───┤  │  »\n",
       "«    reg_3: ┤ H ├┤ X ├┤ H ├──┼──┤ X ├┤ H ├─░─┤ X ├──┼──┤ H ├┤ X ├┤ H ├──┼──»\n",
       "«           └───┘└─┬─┘└───┘┌─┴─┐└───┘└───┘ ░ └───┘┌─┴─┐└───┘└─┬─┘└───┘┌─┴─┐»\n",
       "«scratch_0: ───────■───────┤ X ├───────────░──────┤ X ├───────■───────┤ X ├»\n",
       "«                          └───┘           ░      └───┘               └───┘»\n",
       "«                 ░ ┌───┐┌───┐                         ┌───┐┌───┐ ░           »\n",
       "«    reg_0: ──────░─┤ H ├┤ X ├──■───────────────────■──┤ X ├┤ H ├─░────────■──»\n",
       "«                 ░ ├───┤├───┤  │                   │  ├───┤├───┤ ░        │  »\n",
       "«    reg_1: ──────░─┤ H ├┤ X ├──■───────────────────■──┤ X ├┤ H ├─░────────■──»\n",
       "«                 ░ ├───┤├───┤  │            ┌───┐  │  ├───┤└───┘ ░ ┌───┐  │  »\n",
       "«    reg_2: ──────░─┤ H ├┤ X ├──┼─────────■──┤ X ├──┼──┤ H ├──────░─┤ X ├──┼──»\n",
       "«           ┌───┐ ░ ├───┤├───┤  │  ┌───┐┌─┴─┐├───┤  │  ├───┤┌───┐ ░ ├───┤  │  »\n",
       "«    reg_3: ┤ X ├─░─┤ H ├┤ X ├──┼──┤ H ├┤ X ├┤ H ├──┼──┤ X ├┤ H ├─░─┤ X ├──┼──»\n",
       "«           └───┘ ░ └───┘└───┘┌─┴─┐└───┘└─┬─┘└───┘┌─┴─┐└───┘└───┘ ░ └───┘┌─┴─┐»\n",
       "«scratch_0: ──────░───────────┤ X ├───────■───────┤ X ├───────────░──────┤ X ├»\n",
       "«                 ░           └───┘               └───┘           ░      └───┘»\n",
       "«                                     ░ ┌───┐┌───┐                         »\n",
       "«    reg_0: ─────────────────■────────░─┤ H ├┤ X ├──■───────────────────■──»\n",
       "«                            │        ░ ├───┤├───┤  │                   │  »\n",
       "«    reg_1: ─────────────────■────────░─┤ H ├┤ X ├──■───────────────────■──»\n",
       "«                     ┌───┐  │        ░ ├───┤├───┤  │            ┌───┐  │  »\n",
       "«    reg_2: ───────■──┤ X ├──┼────────░─┤ H ├┤ X ├──┼─────────■──┤ X ├──┼──»\n",
       "«           ┌───┐┌─┴─┐├───┤  │  ┌───┐ ░ ├───┤├───┤  │  ┌───┐┌─┴─┐├───┤  │  »\n",
       "«    reg_3: ┤ H ├┤ X ├┤ H ├──┼──┤ X ├─░─┤ H ├┤ X ├──┼──┤ H ├┤ X ├┤ H ├──┼──»\n",
       "«           └───┘└─┬─┘└───┘┌─┴─┐└───┘ ░ └───┘└───┘┌─┴─┐└───┘└─┬─┘└───┘┌─┴─┐»\n",
       "«scratch_0: ───────■───────┤ X ├──────░───────────┤ X ├───────■───────┤ X ├»\n",
       "«                          └───┘      ░           └───┘               └───┘»\n",
       "«           ┌───┐┌───┐ ░                                     ░ ┌───┐┌───┐     »\n",
       "«    reg_0: ┤ X ├┤ H ├─░────────■───────────────────■────────░─┤ H ├┤ X ├──■──»\n",
       "«           ├───┤├───┤ ░        │                   │        ░ ├───┤├───┤  │  »\n",
       "«    reg_1: ┤ X ├┤ H ├─░────────■───────────────────■────────░─┤ H ├┤ X ├──■──»\n",
       "«           ├───┤└───┘ ░ ┌───┐  │            ┌───┐  │        ░ ├───┤├───┤  │  »\n",
       "«    reg_2: ┤ H ├──────░─┤ X ├──┼─────────■──┤ X ├──┼────────░─┤ H ├┤ X ├──┼──»\n",
       "«           ├───┤┌───┐ ░ ├───┤  │  ┌───┐┌─┴─┐├───┤  │  ┌───┐ ░ ├───┤├───┤  │  »\n",
       "«    reg_3: ┤ X ├┤ H ├─░─┤ X ├──┼──┤ H ├┤ X ├┤ H ├──┼──┤ X ├─░─┤ H ├┤ X ├──┼──»\n",
       "«           └───┘└───┘ ░ └───┘┌─┴─┐└───┘└─┬─┘└───┘┌─┴─┐└───┘ ░ └───┘└───┘┌─┴─┐»\n",
       "«scratch_0: ───────────░──────┤ X ├───────■───────┤ X ├──────░───────────┤ X ├»\n",
       "«                      ░      └───┘               └───┘      ░           └───┘»\n",
       "«                               ┌───┐┌───┐\n",
       "«    reg_0: ─────────────────■──┤ X ├┤ H ├\n",
       "«                            │  ├───┤├───┤\n",
       "«    reg_1: ─────────────────■──┤ X ├┤ H ├\n",
       "«                     ┌───┐  │  ├───┤└───┘\n",
       "«    reg_2: ───────■──┤ X ├──┼──┤ H ├─────\n",
       "«           ┌───┐┌─┴─┐├───┤  │  ├───┤┌───┐\n",
       "«    reg_3: ┤ H ├┤ X ├┤ H ├──┼──┤ X ├┤ H ├\n",
       "«           └───┘└─┬─┘└───┘┌─┴─┐└───┘└───┘\n",
       "«scratch_0: ───────■───────┤ X ├──────────\n",
       "«                          └───┘          </pre>"
      ],
      "text/plain": [
       "<qiskit.visualization.text.TextDrawing at 0x2997c04d518>"
      ]
     },
     "execution_count": 10,
     "metadata": {},
     "output_type": "execute_result"
    }
   ],
   "source": [
    "outputstate = result.get_statevector(qc, decimals=3)\n",
    "total_prob = 0\n",
    "for i,amp in enumerate(outputstate):\n",
    "    if abs(amp) > 0.000001:\n",
    "        prob = abs(amp) * abs(amp)\n",
    "        total_prob += prob\n",
    "        print('|{}> {} probability = {}%'.format(i, amp, round(prob * 100, 5)))\n",
    "print('Total probability: {}%'.format(int(round(total_prob * 100))))\n",
    "qc.draw()        # draw the circuit"
   ]
  },
  {
   "cell_type": "code",
   "execution_count": null,
   "metadata": {
    "scrolled": true
   },
   "outputs": [],
   "source": []
  }
 ],
 "metadata": {
  "kernelspec": {
   "display_name": "qcousins",
   "language": "python",
   "name": "qcousins"
  },
  "language_info": {
   "codemirror_mode": {
    "name": "ipython",
    "version": 3
   },
   "file_extension": ".py",
   "mimetype": "text/x-python",
   "name": "python",
   "nbconvert_exporter": "python",
   "pygments_lexer": "ipython3",
   "version": "3.7.1"
  }
 },
 "nbformat": 4,
 "nbformat_minor": 2
}
