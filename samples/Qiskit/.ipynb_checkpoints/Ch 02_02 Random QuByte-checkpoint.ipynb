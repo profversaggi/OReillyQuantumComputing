{
 "cells": [
  {
   "cell_type": "markdown",
   "metadata": {},
   "source": [
    "# Random QuByte"
   ]
  },
  {
   "cell_type": "markdown",
   "metadata": {},
   "source": [
    "![One Random Byte](img/random_byte.png \"One Random Byte\")"
   ]
  },
  {
   "cell_type": "code",
   "execution_count": 1,
   "metadata": {
    "scrolled": false
   },
   "outputs": [
    {
     "data": {
      "text/html": [
       "\n",
       "        <iframe\n",
       "            width=\"900\"\n",
       "            height=\"900\"\n",
       "            src=\"http://oreilly-qc.github.io?p=2-2\"\n",
       "            frameborder=\"0\"\n",
       "            allowfullscreen\n",
       "        ></iframe>\n",
       "        "
      ],
      "text/plain": [
       "<IPython.lib.display.IFrame at 0x26fbec1f0b8>"
      ]
     },
     "execution_count": 1,
     "metadata": {},
     "output_type": "execute_result"
    }
   ],
   "source": [
    "from IPython.display import IFrame\n",
    "IFrame(src='http://oreilly-qc.github.io?p=2-2', width=900, height=900)"
   ]
  },
  {
   "cell_type": "code",
   "execution_count": 1,
   "metadata": {},
   "outputs": [],
   "source": [
    "from qiskit import QuantumCircuit, QuantumRegister, ClassicalRegister, execute, Aer, IBMQ, BasicAer\n",
    "import math\n",
    "## Uncomment the next line to see diagrams when running in a notebook\n",
    "%matplotlib inline"
   ]
  },
  {
   "cell_type": "code",
   "execution_count": 4,
   "metadata": {},
   "outputs": [],
   "source": [
    "## Example 2-2: Random byte\n",
    "# Set up the program\n",
    "reg = QuantumRegister(8, name='reg')\n",
    "reg_c = ClassicalRegister(8, name='regc')\n",
    "qc = QuantumCircuit(reg, reg_c)"
   ]
  },
  {
   "cell_type": "code",
   "execution_count": 5,
   "metadata": {},
   "outputs": [
    {
     "data": {
      "text/plain": [
       "<qiskit.circuit.instructionset.InstructionSet at 0x21a19f5b0b8>"
      ]
     },
     "execution_count": 5,
     "metadata": {},
     "output_type": "execute_result"
    }
   ],
   "source": [
    "qc.reset(reg)          # write the value 0\n",
    "qc.h(reg)              # put it into a superposition of 0 and 1\n",
    "qc.measure(reg, reg_c) # read the result as a digital bit"
   ]
  },
  {
   "cell_type": "code",
   "execution_count": 9,
   "metadata": {},
   "outputs": [],
   "source": [
    "backend = BasicAer.get_backend('statevector_simulator')\n",
    "job = execute(qc, backend)\n",
    "result = job.result()"
   ]
  },
  {
   "cell_type": "code",
   "execution_count": 10,
   "metadata": {},
   "outputs": [
    {
     "name": "stdout",
     "output_type": "stream",
     "text": [
      "counts: {'01101110': 1}\n",
      "Random number: 118\n"
     ]
    }
   ],
   "source": [
    "# Convert the result into a random number\n",
    "counts = result.get_counts(qc)\n",
    "print('counts:',counts)\n",
    "for key,val in counts.items():\n",
    "    n = sum([(int(x) << i) for i,x in enumerate(key)])\n",
    "    print('Random number:', n)"
   ]
  },
  {
   "cell_type": "code",
   "execution_count": 11,
   "metadata": {},
   "outputs": [
    {
     "data": {
      "text/html": [
       "<pre style=\"word-wrap: normal;white-space: pre;background: #fff0;line-height: 1.1;font-family: &quot;Courier New&quot;,Courier,monospace\">               ┌───┐┌─┐                     \n",
       "reg_0: |0>─|0>─┤ H ├┤M├─────────────────────\n",
       "               ├───┤└╥┘┌─┐                  \n",
       "reg_1: |0>─|0>─┤ H ├─╫─┤M├──────────────────\n",
       "               ├───┤ ║ └╥┘┌─┐               \n",
       "reg_2: |0>─|0>─┤ H ├─╫──╫─┤M├───────────────\n",
       "               ├───┤ ║  ║ └╥┘┌─┐            \n",
       "reg_3: |0>─|0>─┤ H ├─╫──╫──╫─┤M├────────────\n",
       "               ├───┤ ║  ║  ║ └╥┘┌─┐         \n",
       "reg_4: |0>─|0>─┤ H ├─╫──╫──╫──╫─┤M├─────────\n",
       "               ├───┤ ║  ║  ║  ║ └╥┘┌─┐      \n",
       "reg_5: |0>─|0>─┤ H ├─╫──╫──╫──╫──╫─┤M├──────\n",
       "               ├───┤ ║  ║  ║  ║  ║ └╥┘┌─┐   \n",
       "reg_6: |0>─|0>─┤ H ├─╫──╫──╫──╫──╫──╫─┤M├───\n",
       "               ├───┤ ║  ║  ║  ║  ║  ║ └╥┘┌─┐\n",
       "reg_7: |0>─|0>─┤ H ├─╫──╫──╫──╫──╫──╫──╫─┤M├\n",
       "               └───┘ ║  ║  ║  ║  ║  ║  ║ └╥┘\n",
       "regc_0: 0 ═══════════╩══╬══╬══╬══╬══╬══╬══╬═\n",
       "                        ║  ║  ║  ║  ║  ║  ║ \n",
       "regc_1: 0 ══════════════╩══╬══╬══╬══╬══╬══╬═\n",
       "                           ║  ║  ║  ║  ║  ║ \n",
       "regc_2: 0 ═════════════════╩══╬══╬══╬══╬══╬═\n",
       "                              ║  ║  ║  ║  ║ \n",
       "regc_3: 0 ════════════════════╩══╬══╬══╬══╬═\n",
       "                                 ║  ║  ║  ║ \n",
       "regc_4: 0 ═══════════════════════╩══╬══╬══╬═\n",
       "                                    ║  ║  ║ \n",
       "regc_5: 0 ══════════════════════════╩══╬══╬═\n",
       "                                       ║  ║ \n",
       "regc_6: 0 ═════════════════════════════╩══╬═\n",
       "                                          ║ \n",
       "regc_7: 0 ════════════════════════════════╩═\n",
       "                                            </pre>"
      ],
      "text/plain": [
       "<qiskit.visualization.text.TextDrawing at 0x21a79166240>"
      ]
     },
     "execution_count": 11,
     "metadata": {},
     "output_type": "execute_result"
    }
   ],
   "source": [
    "#outputstate = result.get_statevector(qc, decimals=3)\n",
    "#print(outputstate)\n",
    "qc.draw()        # draw the circuit"
   ]
  },
  {
   "cell_type": "code",
   "execution_count": null,
   "metadata": {},
   "outputs": [],
   "source": []
  },
  {
   "cell_type": "code",
   "execution_count": null,
   "metadata": {},
   "outputs": [],
   "source": []
  }
 ],
 "metadata": {
  "kernelspec": {
   "display_name": "qcousins",
   "language": "python",
   "name": "qcousins"
  },
  "language_info": {
   "codemirror_mode": {
    "name": "ipython",
    "version": 3
   },
   "file_extension": ".py",
   "mimetype": "text/x-python",
   "name": "python",
   "nbconvert_exporter": "python",
   "pygments_lexer": "ipython3",
   "version": "3.7.1"
  }
 },
 "nbformat": 4,
 "nbformat_minor": 2
}
