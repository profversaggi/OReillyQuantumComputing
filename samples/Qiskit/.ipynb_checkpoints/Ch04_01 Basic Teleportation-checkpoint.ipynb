{
 "cells": [
  {
   "cell_type": "markdown",
   "metadata": {},
   "source": [
    "# Basic Teleportation"
   ]
  },
  {
   "cell_type": "markdown",
   "metadata": {},
   "source": [
    "![Basic Teleportation](img/basic_teleportation.png \"Basic Teleportation\")"
   ]
  },
  {
   "cell_type": "markdown",
   "metadata": {},
   "source": [
    "![Basic Teleportation](img/basic_teleportation-1.png \"Basic Teleportation\")"
   ]
  },
  {
   "cell_type": "code",
   "execution_count": 1,
   "metadata": {
    "scrolled": true
   },
   "outputs": [
    {
     "data": {
      "text/html": [
       "\n",
       "        <iframe\n",
       "            width=\"900\"\n",
       "            height=\"900\"\n",
       "            src=\"http://oreilly-qc.github.io?p=4-1\"\n",
       "            frameborder=\"0\"\n",
       "            allowfullscreen\n",
       "        ></iframe>\n",
       "        "
      ],
      "text/plain": [
       "<IPython.lib.display.IFrame at 0x2a88e698fd0>"
      ]
     },
     "execution_count": 1,
     "metadata": {},
     "output_type": "execute_result"
    }
   ],
   "source": [
    "from IPython.display import IFrame\n",
    "IFrame(src='http://oreilly-qc.github.io?p=4-1', width=900, height=900)"
   ]
  },
  {
   "cell_type": "code",
   "execution_count": 3,
   "metadata": {},
   "outputs": [],
   "source": [
    "from qiskit import QuantumCircuit, QuantumRegister, ClassicalRegister, execute, Aer, IBMQ, BasicAer\n",
    "import math\n",
    "## Uncomment the next line to see diagrams when running in a notebook\n",
    "%matplotlib inline"
   ]
  },
  {
   "cell_type": "code",
   "execution_count": 4,
   "metadata": {},
   "outputs": [],
   "source": [
    "## Example 4-1: Basic Teleportation\n",
    "\n",
    "# Set up the program\n",
    "alice = QuantumRegister(1, name='alice')\n",
    "ep    = QuantumRegister(1, name='ep')\n",
    "bob   = QuantumRegister(1, name='bob')\n",
    "alice_c = ClassicalRegister(1, name='alicec')\n",
    "ep_c    = ClassicalRegister(1, name='epc')\n",
    "bob_c   = ClassicalRegister(1, name='bobc')\n",
    "qc = QuantumCircuit(alice, ep, bob, alice_c, ep_c, bob_c)"
   ]
  },
  {
   "cell_type": "code",
   "execution_count": 5,
   "metadata": {},
   "outputs": [
    {
     "data": {
      "text/plain": [
       "<qiskit.circuit.instructionset.InstructionSet at 0x2a8af330ba8>"
      ]
     },
     "execution_count": 5,
     "metadata": {},
     "output_type": "execute_result"
    }
   ],
   "source": [
    "# entangle\n",
    "qc.h(ep)\n",
    "qc.cx(ep, bob)\n",
    "qc.barrier()"
   ]
  },
  {
   "cell_type": "code",
   "execution_count": 6,
   "metadata": {},
   "outputs": [
    {
     "data": {
      "text/plain": [
       "<qiskit.circuit.instructionset.InstructionSet at 0x2a8af342198>"
      ]
     },
     "execution_count": 6,
     "metadata": {},
     "output_type": "execute_result"
    }
   ],
   "source": [
    "# prep payload\n",
    "qc.reset(alice)\n",
    "qc.h(alice)\n",
    "qc.rz(math.radians(45), alice)\n",
    "qc.h(alice)\n",
    "qc.barrier()"
   ]
  },
  {
   "cell_type": "code",
   "execution_count": 7,
   "metadata": {},
   "outputs": [
    {
     "data": {
      "text/plain": [
       "<qiskit.circuit.instructionset.InstructionSet at 0x2a8af342400>"
      ]
     },
     "execution_count": 7,
     "metadata": {},
     "output_type": "execute_result"
    }
   ],
   "source": [
    "# send\n",
    "qc.cx(alice, ep)\n",
    "qc.h(alice)\n",
    "qc.measure(alice, alice_c)\n",
    "qc.measure(ep, ep_c)\n",
    "qc.barrier()"
   ]
  },
  {
   "cell_type": "code",
   "execution_count": 8,
   "metadata": {},
   "outputs": [
    {
     "data": {
      "text/plain": [
       "<qiskit.circuit.instructionset.InstructionSet at 0x2a88e698780>"
      ]
     },
     "execution_count": 8,
     "metadata": {},
     "output_type": "execute_result"
    }
   ],
   "source": [
    "# receive\n",
    "qc.x(bob).c_if(ep_c, 1)\n",
    "qc.z(bob).c_if(alice_c, 1)"
   ]
  },
  {
   "cell_type": "code",
   "execution_count": 9,
   "metadata": {},
   "outputs": [
    {
     "data": {
      "text/plain": [
       "<qiskit.circuit.instructionset.InstructionSet at 0x2a8af342898>"
      ]
     },
     "execution_count": 9,
     "metadata": {},
     "output_type": "execute_result"
    }
   ],
   "source": [
    "# verify\n",
    "qc.h(bob)\n",
    "qc.rz(math.radians(-45), bob)\n",
    "qc.h(bob)\n",
    "qc.measure(bob, bob_c)"
   ]
  },
  {
   "cell_type": "code",
   "execution_count": 10,
   "metadata": {},
   "outputs": [],
   "source": [
    "## That's the program. Everything below runs and draws it.\n",
    "\n",
    "backend = BasicAer.get_backend('statevector_simulator')\n",
    "job = execute(qc, backend)\n",
    "result = job.result()"
   ]
  },
  {
   "cell_type": "code",
   "execution_count": 11,
   "metadata": {},
   "outputs": [
    {
     "name": "stdout",
     "output_type": "stream",
     "text": [
      "counts: {'0 1 1': 1}\n"
     ]
    }
   ],
   "source": [
    "counts = result.get_counts(qc)\n",
    "print('counts:',counts)"
   ]
  },
  {
   "cell_type": "code",
   "execution_count": 12,
   "metadata": {},
   "outputs": [
    {
     "name": "stdout",
     "output_type": "stream",
     "text": [
      "[0.+0.j 0.+0.j 0.+0.j 1.+0.j 0.+0.j 0.+0.j 0.+0.j 0.+0.j]\n"
     ]
    },
    {
     "data": {
      "text/html": [
       "<pre style=\"word-wrap: normal;white-space: pre;background: #fff0;line-height: 1.1;font-family: &quot;Courier New&quot;,Courier,monospace\">                       ░      ┌───┐┌──────────┐┌───┐ ░      ┌───┐┌─┐ ░        »\n",
       "alice_0: |0>───────────░──|0>─┤ H ├┤ Rz(pi/4) ├┤ H ├─░───■──┤ H ├┤M├─░────────»\n",
       "            ┌───┐      ░      └───┘└──────────┘└───┘ ░ ┌─┴─┐└┬─┬┘└╥┘ ░        »\n",
       "   ep_0: |0>┤ H ├──■───░─────────────────────────────░─┤ X ├─┤M├──╫──░────────»\n",
       "            └───┘┌─┴─┐ ░                             ░ └───┘ └╥┘  ║  ░  ┌───┐ »\n",
       "  bob_0: |0>─────┤ X ├─░─────────────────────────────░────────╫───╫──░──┤ X ├─»\n",
       "                 └───┘ ░                             ░        ║   ║  ░  └─┬─┘ »\n",
       "alicec_0: 0 ══════════════════════════════════════════════════╬═══╩═══════╪═══»\n",
       "                                                              ║        ┌──┴──┐»\n",
       "   epc_0: 0 ══════════════════════════════════════════════════╩════════╡ = 1 ╞»\n",
       "                                                                       └─────┘»\n",
       "  bobc_0: 0 ══════════════════════════════════════════════════════════════════»\n",
       "                                                                              »\n",
       "«                                           \n",
       "« alice_0: ─────────────────────────────────\n",
       "«                                           \n",
       "«    ep_0: ─────────────────────────────────\n",
       "«           ┌───┐ ┌───┐┌───────────┐┌───┐┌─┐\n",
       "«   bob_0: ─┤ Z ├─┤ H ├┤ Rz(-pi/4) ├┤ H ├┤M├\n",
       "«           └─┬─┘ └───┘└───────────┘└───┘└╥┘\n",
       "«          ┌──┴──┐                        ║ \n",
       "«alicec_0: ╡ = 1 ╞════════════════════════╬═\n",
       "«          └─────┘                        ║ \n",
       "«   epc_0: ═══════════════════════════════╬═\n",
       "«                                         ║ \n",
       "«  bobc_0: ═══════════════════════════════╩═\n",
       "«                                           </pre>"
      ],
      "text/plain": [
       "<qiskit.visualization.text.TextDrawing at 0x2a88e698630>"
      ]
     },
     "execution_count": 12,
     "metadata": {},
     "output_type": "execute_result"
    }
   ],
   "source": [
    "outputstate = result.get_statevector(qc, decimals=3)\n",
    "print(outputstate)\n",
    "qc.draw()        # draw the circuit"
   ]
  },
  {
   "cell_type": "code",
   "execution_count": null,
   "metadata": {},
   "outputs": [],
   "source": []
  }
 ],
 "metadata": {
  "kernelspec": {
   "display_name": "qcousins",
   "language": "python",
   "name": "qcousins"
  },
  "language_info": {
   "codemirror_mode": {
    "name": "ipython",
    "version": 3
   },
   "file_extension": ".py",
   "mimetype": "text/x-python",
   "name": "python",
   "nbconvert_exporter": "python",
   "pygments_lexer": "ipython3",
   "version": "3.7.1"
  }
 },
 "nbformat": 4,
 "nbformat_minor": 2
}
