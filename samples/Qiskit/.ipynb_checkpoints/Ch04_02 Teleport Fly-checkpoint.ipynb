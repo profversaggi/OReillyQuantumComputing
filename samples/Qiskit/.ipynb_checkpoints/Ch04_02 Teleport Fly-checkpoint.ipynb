{
 "cells": [
  {
   "cell_type": "markdown",
   "metadata": {},
   "source": [
    "# Teleport Fly"
   ]
  },
  {
   "cell_type": "markdown",
   "metadata": {},
   "source": [
    "![Remote Controlled Randomness](img/rcr-1.png \"Remote Controlled Randomness\")"
   ]
  },
  {
   "cell_type": "code",
   "execution_count": 1,
   "metadata": {},
   "outputs": [
    {
     "data": {
      "text/html": [
       "\n",
       "        <iframe\n",
       "            width=\"900\"\n",
       "            height=\"900\"\n",
       "            src=\"http://oreilly-qc.github.io?p=4-2\"\n",
       "            frameborder=\"0\"\n",
       "            allowfullscreen\n",
       "        ></iframe>\n",
       "        "
      ],
      "text/plain": [
       "<IPython.lib.display.IFrame at 0x1da114887b8>"
      ]
     },
     "execution_count": 1,
     "metadata": {},
     "output_type": "execute_result"
    }
   ],
   "source": [
    "from IPython.display import IFrame\n",
    "IFrame(src='http://oreilly-qc.github.io?p=4-2', width=900, height=900)"
   ]
  },
  {
   "cell_type": "code",
   "execution_count": 2,
   "metadata": {},
   "outputs": [],
   "source": [
    "from qiskit import QuantumCircuit, QuantumRegister, ClassicalRegister, execute, Aer, IBMQ, BasicAer\n",
    "import math\n",
    "## Uncomment the next line to see diagrams when running in a notebook\n",
    "%matplotlib inline"
   ]
  },
  {
   "cell_type": "code",
   "execution_count": null,
   "metadata": {},
   "outputs": [],
   "source": [
    "#### CAUTION: This sample is big, and may take several seconds to execute.\n",
    "####          It may even fail on some smaller devices (e-readers, etc.)\n",
    "\n",
    "####          To speed it up, you can use the 6-qubit \"mini-fly\".\n",
    "####          Just change num_fly_qubits from 8 to 6.\n",
    "num_fly_qubits = 6 ## this can be 6 or 8, for a mini-fly or full-fly."
   ]
  },
  {
   "cell_type": "code",
   "execution_count": null,
   "metadata": {},
   "outputs": [],
   "source": [
    "## This is the left half of the pixels of the fly,\n",
    "## encoded as an 8x16 array:\n",
    "image8 = [ '........',\n",
    "           '...X....',\n",
    "           '....X.XX',\n",
    "           '.....XXX',\n",
    "           '....XXXX',\n",
    "           'XX...XXX',\n",
    "           '..XXX.XX',\n",
    "           '...X....',\n",
    "           '..X...XX',\n",
    "           '.X...XXX',\n",
    "           'X....XXX',\n",
    "           'X..XXXXX',\n",
    "           '.XXX.XXX',\n",
    "           '...X..XX',\n",
    "           '..X.....',\n",
    "           '........']"
   ]
  },
  {
   "cell_type": "code",
   "execution_count": null,
   "metadata": {},
   "outputs": [],
   "source": [
    "## This is the left half of the pixels of the fly,\n",
    "## encoded as a 4x8 array:\n",
    "image6 = [ '..X.',\n",
    "           '...X',\n",
    "           'X.XX',\n",
    "           '.X..',\n",
    "           'X..X',\n",
    "           'X..X',\n",
    "           '.XX.',\n",
    "           'X...']"
   ]
  },
  {
   "cell_type": "code",
   "execution_count": null,
   "metadata": {},
   "outputs": [],
   "source": [
    "image = image6 if num_fly_qubits == 6 else image8"
   ]
  },
  {
   "cell_type": "code",
   "execution_count": null,
   "metadata": {},
   "outputs": [],
   "source": [
    "## This is the classic teleport example, but with an interesting\n",
    "## payload, and some controllable error.\n",
    "teleport_error = 0.0   ## <--- change this number to 0.1 or more\n",
    "do_teleport = True     ## Enables the teleporter"
   ]
  },
  {
   "cell_type": "code",
   "execution_count": null,
   "metadata": {},
   "outputs": [],
   "source": [
    "# Set up the program\n",
    "fly     = QuantumRegister(num_fly_qubits, name='fly')\n",
    "epair1  = QuantumRegister(num_fly_qubits, name='epair1')\n",
    "epair2  = QuantumRegister(num_fly_qubits, name='epair2')\n",
    "scratch = epair1 # We only need scratch qubits during preparation\n",
    "send0_c = [ClassicalRegister(1, name='send0c'+str(i)) for i in range(num_fly_qubits)]\n",
    "send1_c = [ClassicalRegister(1, name='send1c'+str(i)) for i in range(num_fly_qubits)]\n",
    "qc = QuantumCircuit(fly, epair1, epair2, *send0_c, *send1_c)"
   ]
  },
  {
   "cell_type": "code",
   "execution_count": null,
   "metadata": {},
   "outputs": [],
   "source": [
    "last_not = 0"
   ]
  },
  {
   "cell_type": "code",
   "execution_count": null,
   "metadata": {},
   "outputs": [],
   "source": []
  },
  {
   "cell_type": "code",
   "execution_count": null,
   "metadata": {},
   "outputs": [],
   "source": []
  },
  {
   "cell_type": "code",
   "execution_count": null,
   "metadata": {},
   "outputs": [],
   "source": []
  },
  {
   "cell_type": "code",
   "execution_count": null,
   "metadata": {},
   "outputs": [],
   "source": []
  },
  {
   "cell_type": "code",
   "execution_count": null,
   "metadata": {},
   "outputs": [],
   "source": []
  }
 ],
 "metadata": {
  "kernelspec": {
   "display_name": "qcousins",
   "language": "python",
   "name": "qcousins"
  },
  "language_info": {
   "codemirror_mode": {
    "name": "ipython",
    "version": 3
   },
   "file_extension": ".py",
   "mimetype": "text/x-python",
   "name": "python",
   "nbconvert_exporter": "python",
   "pygments_lexer": "ipython3",
   "version": "3.7.1"
  }
 },
 "nbformat": 4,
 "nbformat_minor": 2
}
