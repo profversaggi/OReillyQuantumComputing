{
 "cells": [
  {
   "cell_type": "markdown",
   "metadata": {},
   "source": [
    "# C-Not Logic"
   ]
  },
  {
   "cell_type": "markdown",
   "metadata": {},
   "source": [
    "![C-Not](img/cnot.png \"C-Not\")"
   ]
  },
  {
   "cell_type": "code",
   "execution_count": 1,
   "metadata": {},
   "outputs": [
    {
     "data": {
      "text/html": [
       "\n",
       "        <iframe\n",
       "            width=\"900\"\n",
       "            height=\"900\"\n",
       "            src=\"http://oreilly-qc.github.io?p=5-6\"\n",
       "            frameborder=\"0\"\n",
       "            allowfullscreen\n",
       "        ></iframe>\n",
       "        "
      ],
      "text/plain": [
       "<IPython.lib.display.IFrame at 0x15bac369d68>"
      ]
     },
     "execution_count": 1,
     "metadata": {},
     "output_type": "execute_result"
    }
   ],
   "source": [
    "from IPython.display import IFrame\n",
    "IFrame(src='http://oreilly-qc.github.io?p=5-6', width=900, height=900)"
   ]
  },
  {
   "cell_type": "code",
   "execution_count": 2,
   "metadata": {},
   "outputs": [],
   "source": [
    "from qiskit import QuantumCircuit, QuantumRegister, ClassicalRegister, execute, Aer, IBMQ, BasicAer\n",
    "import math\n",
    "## Uncomment the next line to see diagrams when running in a notebook\n",
    "%matplotlib inline"
   ]
  },
  {
   "cell_type": "code",
   "execution_count": 3,
   "metadata": {},
   "outputs": [],
   "source": [
    "## Example 5-6: CNOT Logic\n",
    "\n",
    "# Set up the program\n",
    "a = QuantumRegister(1, name='a')\n",
    "b = QuantumRegister(1, name='b')\n",
    "c = QuantumRegister(1, name='c')\n",
    "r1 = ClassicalRegister(1, name='r1')\n",
    "r2 = ClassicalRegister(2, name='r2')\n",
    "r3 = ClassicalRegister(3, name='r3')\n",
    "qc = QuantumCircuit(a, b, c, r1, r2, r3)"
   ]
  },
  {
   "cell_type": "code",
   "execution_count": 4,
   "metadata": {},
   "outputs": [
    {
     "data": {
      "text/plain": [
       "<qiskit.circuit.instructionset.InstructionSet at 0x15bcd005fd0>"
      ]
     },
     "execution_count": 4,
     "metadata": {},
     "output_type": "execute_result"
    }
   ],
   "source": [
    "## initialization\n",
    "qc.reset(c)\n",
    "qc.x(c)\n",
    "qc.measure(c, r1)\n",
    "qc.barrier()"
   ]
  },
  {
   "cell_type": "code",
   "execution_count": 5,
   "metadata": {},
   "outputs": [
    {
     "data": {
      "text/plain": [
       "<qiskit.circuit.instructionset.InstructionSet at 0x15bcd0137b8>"
      ]
     },
     "execution_count": 5,
     "metadata": {},
     "output_type": "execute_result"
    }
   ],
   "source": [
    "qc.reset(b)\n",
    "qc.reset(c)\n",
    "qc.x(b)\n",
    "qc.cx(b, c)\n",
    "qc.measure(b, r2[0])\n",
    "qc.measure(c, r2[1])\n",
    "qc.barrier()"
   ]
  },
  {
   "cell_type": "code",
   "execution_count": 6,
   "metadata": {},
   "outputs": [
    {
     "data": {
      "text/plain": [
       "<qiskit.circuit.instructionset.InstructionSet at 0x15bcd013e48>"
      ]
     },
     "execution_count": 6,
     "metadata": {},
     "output_type": "execute_result"
    }
   ],
   "source": [
    "qc.reset(a)\n",
    "qc.reset(b)\n",
    "qc.reset(c)\n",
    "qc.x(a)\n",
    "qc.x(b)\n",
    "qc.ccx(a, b, c)\n",
    "qc.measure(a, r3[0])\n",
    "qc.measure(b, r3[1])\n",
    "qc.measure(c, r3[2])"
   ]
  },
  {
   "cell_type": "code",
   "execution_count": 7,
   "metadata": {},
   "outputs": [],
   "source": [
    "## That's the program. Everything below runs and draws it.\n",
    "\n",
    "backend = BasicAer.get_backend('statevector_simulator')\n",
    "job = execute(qc, backend)\n",
    "result = job.result()"
   ]
  },
  {
   "cell_type": "code",
   "execution_count": 8,
   "metadata": {},
   "outputs": [
    {
     "name": "stdout",
     "output_type": "stream",
     "text": [
      "counts: {'111 11 1': 1}\n"
     ]
    }
   ],
   "source": [
    "counts = result.get_counts(qc)\n",
    "print('counts:',counts)"
   ]
  },
  {
   "cell_type": "code",
   "execution_count": 9,
   "metadata": {},
   "outputs": [
    {
     "name": "stdout",
     "output_type": "stream",
     "text": [
      "|7> (1+0j)\n"
     ]
    },
    {
     "data": {
      "text/html": [
       "<pre style=\"word-wrap: normal;white-space: pre;background: #fff0;line-height: 1.1;font-family: &quot;Courier New&quot;,Courier,monospace\">                      ░                       ░      ┌───┐     ┌─┐      \n",
       "a_0: |0>──────────────░───────────────────────░──|0>─┤ X ├──■──┤M├──────\n",
       "                      ░      ┌───┐     ┌─┐    ░      ├───┤  │  └╥┘┌─┐   \n",
       "b_0: |0>──────────────░──|0>─┤ X ├──■──┤M├────░──|0>─┤ X ├──■───╫─┤M├───\n",
       "             ┌───┐┌─┐ ░      └───┘┌─┴─┐└╥┘┌─┐ ░      └───┘┌─┴─┐ ║ └╥┘┌─┐\n",
       "c_0: |0>─|0>─┤ X ├┤M├─░──|0>──────┤ X ├─╫─┤M├─░──|0>──────┤ X ├─╫──╫─┤M├\n",
       "             └───┘└╥┘ ░           └───┘ ║ └╥┘ ░           └───┘ ║  ║ └╥┘\n",
       "r1_0: 0 ═══════════╩════════════════════╬══╬════════════════════╬══╬══╬═\n",
       "                                        ║  ║                    ║  ║  ║ \n",
       "r2_0: 0 ════════════════════════════════╩══╬════════════════════╬══╬══╬═\n",
       "                                           ║                    ║  ║  ║ \n",
       "r2_1: 0 ═══════════════════════════════════╩════════════════════╬══╬══╬═\n",
       "                                                                ║  ║  ║ \n",
       "r3_0: 0 ════════════════════════════════════════════════════════╩══╬══╬═\n",
       "                                                                   ║  ║ \n",
       "r3_1: 0 ═══════════════════════════════════════════════════════════╩══╬═\n",
       "                                                                      ║ \n",
       "r3_2: 0 ══════════════════════════════════════════════════════════════╩═\n",
       "                                                                        </pre>"
      ],
      "text/plain": [
       "<qiskit.visualization.text.TextDrawing at 0x15bcd03a588>"
      ]
     },
     "execution_count": 9,
     "metadata": {},
     "output_type": "execute_result"
    }
   ],
   "source": [
    "outputstate = result.get_statevector(qc, decimals=3)\n",
    "for i,amp in enumerate(outputstate):\n",
    "    if abs(amp) > 0.000001:\n",
    "        print('|{}> {}'.format(i, amp))\n",
    "qc.draw()        # draw the circuit"
   ]
  },
  {
   "cell_type": "code",
   "execution_count": null,
   "metadata": {},
   "outputs": [],
   "source": []
  }
 ],
 "metadata": {
  "kernelspec": {
   "display_name": "qcousins",
   "language": "python",
   "name": "qcousins"
  },
  "language_info": {
   "codemirror_mode": {
    "name": "ipython",
    "version": 3
   },
   "file_extension": ".py",
   "mimetype": "text/x-python",
   "name": "python",
   "nbconvert_exporter": "python",
   "pygments_lexer": "ipython3",
   "version": "3.7.1"
  }
 },
 "nbformat": 4,
 "nbformat_minor": 2
}
