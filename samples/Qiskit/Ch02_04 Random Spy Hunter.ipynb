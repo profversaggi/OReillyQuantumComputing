{
 "cells": [
  {
   "cell_type": "markdown",
   "metadata": {},
   "source": [
    "# Quantum Spy Hunter"
   ]
  },
  {
   "cell_type": "markdown",
   "metadata": {},
   "source": [
    "![Quantum Random Spy Hunter](img/quantum_spy_hunter.png \"Quantum Random Spy Hunter\")"
   ]
  },
  {
   "cell_type": "code",
   "execution_count": 1,
   "metadata": {},
   "outputs": [
    {
     "data": {
      "text/html": [
       "\n",
       "        <iframe\n",
       "            width=\"900\"\n",
       "            height=\"900\"\n",
       "            src=\"http://oreilly-qc.github.io?p=2-4\"\n",
       "            frameborder=\"0\"\n",
       "            allowfullscreen\n",
       "        ></iframe>\n",
       "        "
      ],
      "text/plain": [
       "<IPython.lib.display.IFrame at 0x169de7cf978>"
      ]
     },
     "execution_count": 1,
     "metadata": {},
     "output_type": "execute_result"
    }
   ],
   "source": [
    "from IPython.display import IFrame\n",
    "IFrame(src='http://oreilly-qc.github.io?p=2-4', width=900, height=900)"
   ]
  },
  {
   "cell_type": "code",
   "execution_count": 1,
   "metadata": {},
   "outputs": [],
   "source": [
    "from qiskit import QuantumCircuit, QuantumRegister, ClassicalRegister, execute, Aer, IBMQ, BasicAer\n",
    "import math\n",
    "## Uncomment the next line to see diagrams when running in a notebook\n",
    "%matplotlib inline"
   ]
  },
  {
   "cell_type": "code",
   "execution_count": 2,
   "metadata": {},
   "outputs": [],
   "source": [
    "## Example 2-4: Quasntum Spy Hunter\n",
    "# Set up the program\n",
    "alice = QuantumRegister(1, name='alice')\n",
    "fiber = QuantumRegister(1, name='fiber')\n",
    "bob   = QuantumRegister(1, name='bob')\n",
    "alice_had = ClassicalRegister(1, name='ahad')\n",
    "alice_val = ClassicalRegister(1, name='aval')\n",
    "fiber_val = ClassicalRegister(1, name='fval')\n",
    "bob_had   = ClassicalRegister(1, name='bhad')\n",
    "bob_val   = ClassicalRegister(1, name='bval')\n",
    "qc = QuantumCircuit(alice, fiber, bob, alice_had, alice_val, fiber_val, bob_had, bob_val)"
   ]
  },
  {
   "cell_type": "code",
   "execution_count": 3,
   "metadata": {},
   "outputs": [
    {
     "data": {
      "text/plain": [
       "<qiskit.circuit.instructionset.InstructionSet at 0x202f731fa58>"
      ]
     },
     "execution_count": 3,
     "metadata": {},
     "output_type": "execute_result"
    }
   ],
   "source": [
    "# Use Alice's QPU to generate two random bits\n",
    "qc.reset(alice)          # write the value 0\n",
    "qc.h(alice)\n",
    "qc.measure(alice, alice_had)\n",
    "qc.reset(alice)          # write the value 0\n",
    "qc.h(alice)\n",
    "qc.measure(alice, alice_val)"
   ]
  },
  {
   "cell_type": "code",
   "execution_count": 4,
   "metadata": {},
   "outputs": [
    {
     "data": {
      "text/plain": [
       "<qiskit.circuit.instructionset.InstructionSet at 0x202f731f2e8>"
      ]
     },
     "execution_count": 4,
     "metadata": {},
     "output_type": "execute_result"
    }
   ],
   "source": [
    "# Prepare Alice's qubit\n",
    "qc.reset(alice)          # write the value 0\n",
    "qc.x(alice).c_if(alice_val, 1)\n",
    "qc.h(alice).c_if(alice_had, 1)"
   ]
  },
  {
   "cell_type": "code",
   "execution_count": 5,
   "metadata": {},
   "outputs": [
    {
     "data": {
      "text/plain": [
       "<qiskit.circuit.instructionset.InstructionSet at 0x20298259b38>"
      ]
     },
     "execution_count": 5,
     "metadata": {},
     "output_type": "execute_result"
    }
   ],
   "source": [
    "# Send the qubit!\n",
    "qc.swap(alice, fiber)"
   ]
  },
  {
   "cell_type": "code",
   "execution_count": 6,
   "metadata": {},
   "outputs": [],
   "source": [
    "# Activate the spy\n",
    "spy_is_present = True\n",
    "if spy_is_present:\n",
    "    qc.barrier()\n",
    "    spy_had = True\n",
    "    if spy_had:\n",
    "        qc.h(fiber)\n",
    "    qc.measure(fiber, fiber_val)\n",
    "    qc.reset(fiber)\n",
    "    qc.x(fiber).c_if(fiber_val, 1)\n",
    "    if spy_had:\n",
    "        qc.h(fiber)"
   ]
  },
  {
   "cell_type": "code",
   "execution_count": 7,
   "metadata": {},
   "outputs": [
    {
     "data": {
      "text/plain": [
       "<qiskit.circuit.instructionset.InstructionSet at 0x20298259b00>"
      ]
     },
     "execution_count": 7,
     "metadata": {},
     "output_type": "execute_result"
    }
   ],
   "source": [
    "qc.barrier()"
   ]
  },
  {
   "cell_type": "code",
   "execution_count": 8,
   "metadata": {},
   "outputs": [
    {
     "data": {
      "text/plain": [
       "<qiskit.circuit.instructionset.InstructionSet at 0x2029826b128>"
      ]
     },
     "execution_count": 8,
     "metadata": {},
     "output_type": "execute_result"
    }
   ],
   "source": [
    "# Use Bob's QPU to generate a random bit\n",
    "qc.reset(bob)\n",
    "qc.h(bob)\n",
    "qc.measure(bob, bob_had)"
   ]
  },
  {
   "cell_type": "code",
   "execution_count": 9,
   "metadata": {},
   "outputs": [
    {
     "data": {
      "text/plain": [
       "<qiskit.circuit.instructionset.InstructionSet at 0x2029826b438>"
      ]
     },
     "execution_count": 9,
     "metadata": {},
     "output_type": "execute_result"
    }
   ],
   "source": [
    "# Receive the qubit!\n",
    "qc.swap(fiber, bob)\n",
    "qc.h(bob).c_if(bob_had, 1)\n",
    "qc.measure(bob, bob_val)"
   ]
  },
  {
   "cell_type": "code",
   "execution_count": 10,
   "metadata": {},
   "outputs": [],
   "source": [
    "backend = BasicAer.get_backend('statevector_simulator')\n",
    "job = execute(qc, backend)\n",
    "result = job.result()"
   ]
  },
  {
   "cell_type": "code",
   "execution_count": 11,
   "metadata": {},
   "outputs": [
    {
     "name": "stdout",
     "output_type": "stream",
     "text": [
      "counts: {'0 1 0 1 0': 1}\n",
      "No spies detected.\n"
     ]
    }
   ],
   "source": [
    "# Now Alice emails Bob to tell\n",
    "# him her had setting and value.\n",
    "# If the had setting matches and the\n",
    "# value does not, there's a spy!\n",
    "counts = result.get_counts(qc)\n",
    "print('counts:',counts)\n",
    "caught = False\n",
    "for key,val in counts.items():\n",
    "    ahad,aval,f,bhad,bval = (int(x) for x in key.split(' '))\n",
    "    if ahad == bhad:\n",
    "        if aval != bval:\n",
    "            print('Caught a spy!')\n",
    "            caught = True\n",
    "if not caught:\n",
    "    print('No spies detected.')"
   ]
  },
  {
   "cell_type": "code",
   "execution_count": 12,
   "metadata": {},
   "outputs": [
    {
     "name": "stdout",
     "output_type": "stream",
     "text": [
      "[0.+0.j 0.+0.j 1.+0.j 0.+0.j 0.+0.j 0.+0.j 0.+0.j 0.+0.j]\n"
     ]
    },
    {
     "data": {
      "text/html": [
       "<pre style=\"word-wrap: normal;white-space: pre;background: #fff0;line-height: 1.1;font-family: &quot;Courier New&quot;,Courier,monospace\">                 ┌───┐┌─┐     ┌───┐┌─┐      ┌───┐  ┌───┐     ░              »\n",
       "alice_0: |0>─|0>─┤ H ├┤M├─|0>─┤ H ├┤M├─|0>──┤ X ├──┤ H ├──X──░──────────────»\n",
       "                 └───┘└╥┘     └───┘└╥┘      └─┬─┘  └─┬─┘  │  ░ ┌───┐┌─┐     »\n",
       "fiber_0: |0>───────────╫────────────╫─────────┼──────┼────X──░─┤ H ├┤M├─|0>─»\n",
       "                       ║            ║         │      │       ░ └───┘└╥┘     »\n",
       "  bob_0: |0>───────────╫────────────╫─────────┼──────┼───────░───────╫──────»\n",
       "                       ║            ║         │   ┌──┴──┐    ░       ║      »\n",
       "  ahad_0: 0 ═══════════╩════════════╬═════════╪═══╡ = 1 ╞════════════╬══════»\n",
       "                                    ║      ┌──┴──┐└─────┘            ║      »\n",
       "  aval_0: 0 ════════════════════════╩══════╡ = 1 ╞═══════════════════╬══════»\n",
       "                                           └─────┘                   ║      »\n",
       "  fval_0: 0 ═════════════════════════════════════════════════════════╩══════»\n",
       "                                                                            »\n",
       "  bhad_0: 0 ════════════════════════════════════════════════════════════════»\n",
       "                                                                            »\n",
       "  bval_0: 0 ════════════════════════════════════════════════════════════════»\n",
       "                                                                            »\n",
       "«                      ░                           \n",
       "«alice_0: ─────────────░───────────────────────────\n",
       "«          ┌───┐ ┌───┐ ░                           \n",
       "«fiber_0: ─┤ X ├─┤ H ├─░───────────────X───────────\n",
       "«          └─┬─┘ └───┘ ░      ┌───┐┌─┐ │  ┌───┐ ┌─┐\n",
       "«  bob_0: ───┼─────────░──|0>─┤ H ├┤M├─X──┤ H ├─┤M├\n",
       "«            │         ░      └───┘└╥┘    └─┬─┘ └╥┘\n",
       "« ahad_0: ═══╪══════════════════════╬═══════╪════╬═\n",
       "«            │                      ║       │    ║ \n",
       "« aval_0: ═══╪══════════════════════╬═══════╪════╬═\n",
       "«         ┌──┴──┐                   ║       │    ║ \n",
       "« fval_0: ╡ = 1 ╞═══════════════════╬═══════╪════╬═\n",
       "«         └─────┘                   ║    ┌──┴──┐ ║ \n",
       "« bhad_0: ══════════════════════════╩════╡ = 1 ╞═╬═\n",
       "«                                        └─────┘ ║ \n",
       "« bval_0: ═══════════════════════════════════════╩═\n",
       "«                                                  </pre>"
      ],
      "text/plain": [
       "<qiskit.visualization.text.TextDrawing at 0x202982b4f60>"
      ]
     },
     "execution_count": 12,
     "metadata": {},
     "output_type": "execute_result"
    }
   ],
   "source": [
    "outputstate = result.get_statevector(qc, decimals=3)\n",
    "print(outputstate)\n",
    "qc.draw()        # draw the circuit"
   ]
  },
  {
   "cell_type": "code",
   "execution_count": null,
   "metadata": {},
   "outputs": [],
   "source": []
  },
  {
   "cell_type": "code",
   "execution_count": null,
   "metadata": {},
   "outputs": [],
   "source": []
  }
 ],
 "metadata": {
  "kernelspec": {
   "display_name": "qcousins",
   "language": "python",
   "name": "qcousins"
  },
  "language_info": {
   "codemirror_mode": {
    "name": "ipython",
    "version": 3
   },
   "file_extension": ".py",
   "mimetype": "text/x-python",
   "name": "python",
   "nbconvert_exporter": "python",
   "pygments_lexer": "ipython3",
   "version": "3.7.1"
  }
 },
 "nbformat": 4,
 "nbformat_minor": 2
}
