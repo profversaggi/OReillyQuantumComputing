{
 "cells": [
  {
   "cell_type": "markdown",
   "metadata": {},
   "source": [
    "![(book cover)](https://covers.oreillystatic.com/images/0636920167433/cat.gif \"(book cover)\")\n",
    "# Programming Quantum Computers by O'Reilly Media -  [book info](http://shop.oreilly.com/product/0636920167433.do)  - [all code samples](https://oreilly-qc.github.io)\n",
    "\n",
    "## Code samples for Chapter 10\n",
    "These code samples were written by Mariia Mykhailova."
   ]
  },
  {
   "cell_type": "markdown",
   "metadata": {},
   "source": [
    "### Example 10-1: Encoding \"(a OR NOT b) AND c\" example in phase logic"
   ]
  },
  {
   "cell_type": "code",
   "execution_count": 1,
   "metadata": {},
   "outputs": [
    {
     "data": {
      "application/json": "[\"RunExample101\"]",
      "text/html": [
       "<ul><li>RunExample101</li></ul>"
      ],
      "text/plain": [
       "RunExample101"
      ]
     },
     "execution_count": 1,
     "metadata": {},
     "output_type": "execute_result"
    }
   ],
   "source": [
    "// Example 10-1: Encoding \"(a OR NOT b) AND c\" example in phase logic\n",
    "\n",
    "open Microsoft.Quantum.Diagnostics;\n",
    "\n",
    "operation RunExample101 () : Unit {\n",
    "    // Allocate the qubits a, b and c and a qubit for storing the result\n",
    "    using ((a, b, c, scratch) = (Qubit(), Qubit(), Qubit(), Qubit())) {\n",
    "        // Prepare the \"input\" - a superposition of all states\n",
    "        ApplyToEach(H, [a, b, c]);\n",
    "        \n",
    "        within {\n",
    "            // Compute (a OR NOT b) and write the result into \"scratch\" using magnitude-based encoding\n",
    "            // (within-apply construct will make sure that \"within\" block is uncomputed after \"apply\" block is done)\n",
    "            \n",
    "            // Convert b to NOT b\n",
    "            X(b);\n",
    "            \n",
    "            // Compute OR of a and updated b\n",
    "            (ControlledOnInt(0, X))([a, b], scratch);\n",
    "            X(scratch);\n",
    "        } apply {\n",
    "            // Compute the last AND using phase-based encoding\n",
    "            Controlled Z([c], scratch);\n",
    "        }\n",
    "        \n",
    "        // Dump the state of qubits a, b and c (scratch qubit is not entangled with them any longer).\n",
    "        // Note the negative phases of states |4❭, |5❭ and |7❭\n",
    "        DumpRegister((), [a, b, c]);\n",
    "        \n",
    "        // Make sure the qubits are back to the |0❭ state\n",
    "        ResetAll([a, b, c, scratch]);\n",
    "    }\n",
    "}"
   ]
  },
  {
   "cell_type": "code",
   "execution_count": 2,
   "metadata": {
    "scrolled": true
   },
   "outputs": [
    {
     "name": "stdout",
     "output_type": "stream",
     "text": [
      "# wave function for qubits with ids (least to most significant): 0;1;2\n",
      "∣0❭:\t 0.353553 +  0.000000 i\t == \t***                  [ 0.125000 ]     --- [  0.00000 rad ]\n",
      "∣1❭:\t 0.353553 +  0.000000 i\t == \t***                  [ 0.125000 ]     --- [  0.00000 rad ]\n",
      "∣2❭:\t 0.353553 +  0.000000 i\t == \t***                  [ 0.125000 ]     --- [  0.00000 rad ]\n",
      "∣3❭:\t 0.353553 +  0.000000 i\t == \t***                  [ 0.125000 ]     --- [  0.00000 rad ]\n",
      "∣4❭:\t-0.353553 +  0.000000 i\t == \t***                  [ 0.125000 ] ---     [  3.14159 rad ]\n",
      "∣5❭:\t-0.353553 +  0.000000 i\t == \t***                  [ 0.125000 ] ---     [  3.14159 rad ]\n",
      "∣6❭:\t 0.353553 +  0.000000 i\t == \t***                  [ 0.125000 ]     --- [  0.00000 rad ]\n",
      "∣7❭:\t-0.353553 +  0.000000 i\t == \t***                  [ 0.125000 ] ---     [  3.14159 rad ]\n"
     ]
    },
    {
     "data": {
      "application/json": "{\"@type\":\"tuple\"}",
      "text/plain": [
       "()"
      ]
     },
     "execution_count": 2,
     "metadata": {},
     "output_type": "execute_result"
    }
   ],
   "source": [
    "%simulate RunExample101"
   ]
  },
  {
   "cell_type": "markdown",
   "metadata": {},
   "source": [
    "### Example 10-2: Kittens and tigers"
   ]
  },
  {
   "cell_type": "code",
   "execution_count": 3,
   "metadata": {},
   "outputs": [
    {
     "data": {
      "application/json": "[\"KittensAndTigers\",\"MirrorRegister\"]",
      "text/html": [
       "<ul><li>KittensAndTigers</li><li>MirrorRegister</li></ul>"
      ],
      "text/plain": [
       "KittensAndTigers, MirrorRegister"
      ]
     },
     "execution_count": 3,
     "metadata": {},
     "output_type": "execute_result"
    }
   ],
   "source": [
    "// Example 10-2: Kittens and tigers\n",
    "\n",
    "open Microsoft.Quantum.Arrays;\n",
    "open Microsoft.Quantum.Diagnostics;\n",
    "open Microsoft.Quantum.Measurement;\n",
    "\n",
    "operation MirrorRegister (register : Qubit[]) : Unit {\n",
    "    within {\n",
    "        ApplyToEachA(H, register);\n",
    "        ApplyToEachA(X, register);\n",
    "    } apply {\n",
    "        Controlled Z(Most(register), Tail(register));\n",
    "    }\n",
    "}\n",
    "\n",
    "operation KittensAndTigers () : Unit {\n",
    "    // Allocate the qubits\n",
    "    using ((boxes, noteA, scratch) = (Qubit[2], Qubit(), Qubit())) {\n",
    "        // Prepare the boxes in a superposition of all states\n",
    "        ApplyToEach(H, boxes);\n",
    "        \n",
    "        within {\n",
    "            // Compute note A (\"at least one of these boxes contains a kitten\" = boxA or boxB)\n",
    "            (ControlledOnInt(0, X))(boxes, noteA);\n",
    "            X(noteA);\n",
    "            \n",
    "            // Compute note B (\"boxA contains a tiger\")\n",
    "            X(boxes[0]);\n",
    "            \n",
    "            // Put phase-encoded scratch qubit in |-❭ state\n",
    "            X(scratch);\n",
    "            H(scratch);\n",
    "        } apply {\n",
    "            // Compute the last XNOR\n",
    "            CNOT(boxes[0], scratch);\n",
    "            CNOT(noteA, scratch);\n",
    "            X(scratch);\n",
    "        }\n",
    "        \n",
    "        // Dump the state of qubits \"boxes\" (two other qubits are not entangled with them any longer).\n",
    "        // At this point the answer is phase-encoded.\n",
    "        Message(\"Computation result encoded in phases\");\n",
    "        DumpRegister((), boxes);\n",
    "        \n",
    "        // Convert the phase encoding into magnitudes encoding\n",
    "        MirrorRegister(boxes);\n",
    "        \n",
    "        // Dump the state of qubits \"boxes\"  again.\n",
    "        // At this point the answer is magnitudes-encoded.\n",
    "        Message(\"Computation result encoded in amplitudes\");\n",
    "        DumpRegister((), boxes);\n",
    "\n",
    "        // Perform measurements to extract the result\n",
    "        let catA = MResetZ(boxes[0]) == One ? \"kitten\" | \"tiger\";\n",
    "        let catB = MResetZ(boxes[1]) == One ? \"kitten\" | \"tiger\";\n",
    "        Message($\"Box A contains {catA}\");\n",
    "        Message($\"Box B contains {catB}\");\n",
    "    }\n",
    "}"
   ]
  },
  {
   "cell_type": "code",
   "execution_count": 4,
   "metadata": {
    "scrolled": false
   },
   "outputs": [
    {
     "name": "stdout",
     "output_type": "stream",
     "text": [
      "Computation result encoded in phases\n",
      "# wave function for qubits with ids (least to most significant): 0;1\n",
      "∣0❭:\t 0.500000 +  0.000000 i\t == \t*****                [ 0.250000 ]     --- [  0.00000 rad ]\n",
      "∣1❭:\t 0.500000 +  0.000000 i\t == \t*****                [ 0.250000 ]     --- [  0.00000 rad ]\n",
      "∣2❭:\t-0.500000 +  0.000000 i\t == \t*****                [ 0.250000 ] ---     [  3.14159 rad ]\n",
      "∣3❭:\t 0.500000 +  0.000000 i\t == \t*****                [ 0.250000 ]     --- [  0.00000 rad ]\n",
      "Computation result encoded in amplitudes\n",
      "# wave function for qubits with ids (least to most significant): 0;1\n",
      "∣0❭:\t-0.000000 +  0.000000 i\t == \t*                    [ 0.000000 ] ---     [  3.14159 rad ]\n",
      "∣1❭:\t-0.000000 +  0.000000 i\t == \t*                    [ 0.000000 ] ---     [  3.14159 rad ]\n",
      "∣2❭:\t-1.000000 +  0.000000 i\t == \t******************** [ 1.000000 ] ---     [  3.14159 rad ]\n",
      "∣3❭:\t 0.000000 +  0.000000 i\t == \t*                    [ 0.000000 ]     --- [  0.00000 rad ]\n",
      "Box A contains tiger\n",
      "Box B contains kitten\n"
     ]
    },
    {
     "data": {
      "application/json": "{\"@type\":\"tuple\"}",
      "text/plain": [
       "()"
      ]
     },
     "execution_count": 4,
     "metadata": {},
     "output_type": "execute_result"
    }
   ],
   "source": [
    "%simulate KittensAndTigers"
   ]
  },
  {
   "cell_type": "markdown",
   "metadata": {},
   "source": [
    "### Example 10-3: Satisfiable 3-SAT problem\n",
    "\n",
    "(a OR b) AND (NOT a OR c) AND (NOT b OR NOT c) AND (a OR c)"
   ]
  },
  {
   "cell_type": "code",
   "execution_count": 5,
   "metadata": {
    "scrolled": true
   },
   "outputs": [
    {
     "data": {
      "application/json": "[\"ComputeOrClause\",\"SolveSatisfiableSAT\"]",
      "text/html": [
       "<ul><li>ComputeOrClause</li><li>SolveSatisfiableSAT</li></ul>"
      ],
      "text/plain": [
       "ComputeOrClause, SolveSatisfiableSAT"
      ]
     },
     "execution_count": 5,
     "metadata": {},
     "output_type": "execute_result"
    }
   ],
   "source": [
    "// Example 10-3: Satisfiable 3-SAT problem\n",
    "\n",
    "open Microsoft.Quantum.Arrays;\n",
    "open Microsoft.Quantum.Convert;\n",
    "open Microsoft.Quantum.Diagnostics;\n",
    "open Microsoft.Quantum.Measurement;\n",
    "\n",
    "// Helper operation to compute OR of several inputs and write it to the output\n",
    "// negate[i] = true if variable i is included in the clause negated\n",
    "operation ComputeOrClause (inputs : Qubit[], negate : Bool[], output : Qubit) : Unit is Adj {\n",
    "    within {\n",
    "        // Flip the inputs that have to be negated, so as to calculate a normal OR of inputs\n",
    "        ApplyPauliFromBitString(PauliX, true, negate, inputs);\n",
    "    } apply {\n",
    "        (ControlledOnInt(0, X))(inputs, output);\n",
    "        X(output);\n",
    "    }\n",
    "}\n",
    "\n",
    "operation SolveSatisfiableSAT () : Unit {\n",
    "    // Allocate the qubits\n",
    "    using ((inputs, clauses) = (Qubit[3], Qubit[4])) {\n",
    "        // Prepare the inputs in a superposition of all states\n",
    "        ApplyToEach(H, inputs);\n",
    "        \n",
    "        within {\n",
    "            // Clause 1: a OR b = inputs[0] OR inputs[1]\n",
    "            ComputeOrClause(inputs[0..1], [false, false], clauses[0]);\n",
    "            // Clause 2: NOT a OR c = NOT inputs[0] OR inputs[2]\n",
    "            ComputeOrClause(inputs[0..2..2], [true, false], clauses[1]);\n",
    "            // Clause 3: NOT b OR NOT c = NOT inputs[1] OR NOT inputs[2]\n",
    "            ComputeOrClause(inputs[1..2], [true, true], clauses[2]);\n",
    "            // Clause 4: a OR c = inputs[0] OR inputs[2]\n",
    "            ComputeOrClause(inputs[0..2..2], [false, false], clauses[3]);\n",
    "        } apply {\n",
    "            // Compute the (phase-encoded) result\n",
    "            Controlled Z(Most(clauses), Tail(clauses));\n",
    "        }\n",
    "        \n",
    "        // Dump the state of inputs (the clauses are not entangled with them any longer).\n",
    "        // At this point the answer is phase-encoded.\n",
    "        Message(\"Computation result encoded in phases\");\n",
    "        DumpRegister((), inputs);\n",
    "        \n",
    "        // Convert the phase encoding into magnitudes encoding\n",
    "        MirrorRegister(inputs);\n",
    "        \n",
    "        // Dump the state of qubits \"boxes\"  again.\n",
    "        // At this point the answer is magnitudes-encoded.\n",
    "        Message(\"Computation result encoded in amplitudes\");\n",
    "        DumpRegister((), inputs);\n",
    "\n",
    "        // Perform measurements to extract the result\n",
    "        let solution = ResultArrayAsBoolArray(MultiM(inputs));\n",
    "        Message($\"Variables [a, b, c] = {solution}\");\n",
    "        \n",
    "        ResetAll(inputs);\n",
    "    }\n",
    "}"
   ]
  },
  {
   "cell_type": "code",
   "execution_count": 6,
   "metadata": {
    "scrolled": true
   },
   "outputs": [
    {
     "name": "stdout",
     "output_type": "stream",
     "text": [
      "Computation result encoded in phases\n",
      "# wave function for qubits with ids (least to most significant): 0;1;2\n",
      "∣0❭:\t 0.353553 +  0.000000 i\t == \t***                  [ 0.125000 ]     --- [  0.00000 rad ]\n",
      "∣1❭:\t 0.353553 +  0.000000 i\t == \t***                  [ 0.125000 ]     --- [  0.00000 rad ]\n",
      "∣2❭:\t 0.353553 +  0.000000 i\t == \t***                  [ 0.125000 ]     --- [  0.00000 rad ]\n",
      "∣3❭:\t 0.353553 +  0.000000 i\t == \t***                  [ 0.125000 ]     --- [  0.00000 rad ]\n",
      "∣4❭:\t 0.353553 +  0.000000 i\t == \t***                  [ 0.125000 ]     --- [  0.00000 rad ]\n",
      "∣5❭:\t-0.353553 +  0.000000 i\t == \t***                  [ 0.125000 ] ---     [  3.14159 rad ]\n",
      "∣6❭:\t 0.353553 +  0.000000 i\t == \t***                  [ 0.125000 ]     --- [  0.00000 rad ]\n",
      "∣7❭:\t 0.353553 +  0.000000 i\t == \t***                  [ 0.125000 ]     --- [  0.00000 rad ]\n",
      "Computation result encoded in amplitudes\n",
      "# wave function for qubits with ids (least to most significant): 0;1;2\n",
      "∣0❭:\t-0.176777 +  0.000000 i\t == \t*                    [ 0.031250 ] ---     [  3.14159 rad ]\n",
      "∣1❭:\t-0.176777 +  0.000000 i\t == \t*                    [ 0.031250 ] ---     [  3.14159 rad ]\n",
      "∣2❭:\t-0.176777 +  0.000000 i\t == \t*                    [ 0.031250 ] ---     [  3.14159 rad ]\n",
      "∣3❭:\t-0.176777 +  0.000000 i\t == \t*                    [ 0.031250 ] ---     [  3.14159 rad ]\n",
      "∣4❭:\t-0.176777 +  0.000000 i\t == \t*                    [ 0.031250 ] ---     [  3.14159 rad ]\n",
      "∣5❭:\t-0.883883 +  0.000000 i\t == \t****************     [ 0.781250 ] ---     [  3.14159 rad ]\n",
      "∣6❭:\t-0.176777 +  0.000000 i\t == \t*                    [ 0.031250 ] ---     [  3.14159 rad ]\n",
      "∣7❭:\t-0.176777 +  0.000000 i\t == \t*                    [ 0.031250 ] ---     [  3.14159 rad ]\n",
      "Variables [a, b, c] = [True,False,True]\n"
     ]
    },
    {
     "data": {
      "application/json": "{\"@type\":\"tuple\"}",
      "text/plain": [
       "()"
      ]
     },
     "execution_count": 6,
     "metadata": {},
     "output_type": "execute_result"
    }
   ],
   "source": [
    "%simulate SolveSatisfiableSAT"
   ]
  },
  {
   "cell_type": "markdown",
   "metadata": {},
   "source": [
    "### Example 10-4: Unsatisfiable 3-SAT problem\n",
    "\n",
    "(a OR b) AND (NOT a OR c) AND (NOT b OR NOT c) AND (a OR c) *AND B*"
   ]
  },
  {
   "cell_type": "code",
   "execution_count": 7,
   "metadata": {
    "scrolled": true
   },
   "outputs": [
    {
     "data": {
      "application/json": "[\"SolveUnsatisfiableSAT\"]",
      "text/html": [
       "<ul><li>SolveUnsatisfiableSAT</li></ul>"
      ],
      "text/plain": [
       "SolveUnsatisfiableSAT"
      ]
     },
     "execution_count": 7,
     "metadata": {},
     "output_type": "execute_result"
    }
   ],
   "source": [
    "// Example 10-4: Unsatisfiable 3-SAT problem\n",
    "\n",
    "open Microsoft.Quantum.Arrays;\n",
    "open Microsoft.Quantum.Convert;\n",
    "open Microsoft.Quantum.Diagnostics;\n",
    "open Microsoft.Quantum.Measurement;\n",
    "\n",
    "operation SolveUnsatisfiableSAT () : Unit {\n",
    "    // Allocate the qubits\n",
    "    using ((inputs, clauses) = (Qubit[3], Qubit[4])) {\n",
    "        // Prepare the inputs in a superposition of all states\n",
    "        ApplyToEach(H, inputs);\n",
    "        \n",
    "        within {\n",
    "            // Clause 1: a OR b = inputs[0] OR inputs[1]\n",
    "            ComputeOrClause(inputs[0..1], [false, false], clauses[0]);\n",
    "            // Clause 2: NOT a OR c = NOT inputs[0] OR inputs[2]\n",
    "            ComputeOrClause(inputs[0..2..2], [true, false], clauses[1]);\n",
    "            // Clause 3: NOT b OR NOT c = NOT inputs[1] OR NOT inputs[2]\n",
    "            ComputeOrClause(inputs[1..2], [true, true], clauses[2]);\n",
    "            // Clause 4: a OR c = inputs[0] OR inputs[2]\n",
    "            ComputeOrClause(inputs[0..2..2], [false, false], clauses[3]);\n",
    "            \n",
    "            // New clause 5 is b itself, so doesn't need an extra input to be computed\n",
    "        } apply {\n",
    "            // Compute the (phase-encoded) result\n",
    "            Controlled Z(clauses, inputs[1]);\n",
    "        }\n",
    "        \n",
    "        // Dump the state of inputs (the clauses are not entangled with them any longer).\n",
    "        // At this point the answer is phase-encoded.\n",
    "        Message(\"Computation result encoded in phases\");\n",
    "        DumpRegister((), inputs);\n",
    "        \n",
    "        // Convert the phase encoding into magnitudes encoding\n",
    "        MirrorRegister(inputs);\n",
    "        \n",
    "        // Dump the state of qubits \"boxes\"  again.\n",
    "        // At this point the answer is magnitudes-encoded.\n",
    "        Message(\"Computation result encoded in amplitudes\");\n",
    "        DumpRegister((), inputs);\n",
    "\n",
    "        // Perform measurements to extract the result\n",
    "        let solution = ResultArrayAsBoolArray(MultiM(inputs));\n",
    "        Message($\"Variables [a, b, c] = {solution}\");\n",
    "        \n",
    "        ResetAll(inputs);\n",
    "    }\n",
    "}"
   ]
  },
  {
   "cell_type": "markdown",
   "metadata": {},
   "source": [
    "Run the cell below several times - you'll see different results!"
   ]
  },
  {
   "cell_type": "code",
   "execution_count": 8,
   "metadata": {
    "scrolled": true
   },
   "outputs": [
    {
     "name": "stdout",
     "output_type": "stream",
     "text": [
      "Computation result encoded in phases\n",
      "# wave function for qubits with ids (least to most significant): 0;1;2\n",
      "∣0❭:\t 0.353553 +  0.000000 i\t == \t***                  [ 0.125000 ]     --- [  0.00000 rad ]\n",
      "∣1❭:\t 0.353553 +  0.000000 i\t == \t***                  [ 0.125000 ]     --- [  0.00000 rad ]\n",
      "∣2❭:\t 0.353553 +  0.000000 i\t == \t***                  [ 0.125000 ]     --- [  0.00000 rad ]\n",
      "∣3❭:\t 0.353553 +  0.000000 i\t == \t***                  [ 0.125000 ]     --- [  0.00000 rad ]\n",
      "∣4❭:\t 0.353553 +  0.000000 i\t == \t***                  [ 0.125000 ]     --- [  0.00000 rad ]\n",
      "∣5❭:\t 0.353553 +  0.000000 i\t == \t***                  [ 0.125000 ]     --- [  0.00000 rad ]\n",
      "∣6❭:\t 0.353553 +  0.000000 i\t == \t***                  [ 0.125000 ]     --- [  0.00000 rad ]\n",
      "∣7❭:\t 0.353553 +  0.000000 i\t == \t***                  [ 0.125000 ]     --- [  0.00000 rad ]\n",
      "Computation result encoded in amplitudes\n",
      "# wave function for qubits with ids (least to most significant): 0;1;2\n",
      "∣0❭:\t-0.353553 +  0.000000 i\t == \t***                  [ 0.125000 ] ---     [  3.14159 rad ]\n",
      "∣1❭:\t-0.353553 +  0.000000 i\t == \t***                  [ 0.125000 ] ---     [  3.14159 rad ]\n",
      "∣2❭:\t-0.353553 +  0.000000 i\t == \t***                  [ 0.125000 ] ---     [  3.14159 rad ]\n",
      "∣3❭:\t-0.353553 +  0.000000 i\t == \t***                  [ 0.125000 ] ---     [  3.14159 rad ]\n",
      "∣4❭:\t-0.353553 +  0.000000 i\t == \t***                  [ 0.125000 ] ---     [  3.14159 rad ]\n",
      "∣5❭:\t-0.353553 +  0.000000 i\t == \t***                  [ 0.125000 ] ---     [  3.14159 rad ]\n",
      "∣6❭:\t-0.353553 +  0.000000 i\t == \t***                  [ 0.125000 ] ---     [  3.14159 rad ]\n",
      "∣7❭:\t-0.353553 +  0.000000 i\t == \t***                  [ 0.125000 ] ---     [  3.14159 rad ]\n",
      "Variables [a, b, c] = [True,True,True]\n"
     ]
    },
    {
     "data": {
      "application/json": "{\"@type\":\"tuple\"}",
      "text/plain": [
       "()"
      ]
     },
     "execution_count": 8,
     "metadata": {},
     "output_type": "execute_result"
    }
   ],
   "source": [
    "%simulate SolveUnsatisfiableSAT"
   ]
  }
 ],
 "metadata": {
  "kernelspec": {
   "display_name": "Q#",
   "language": "qsharp",
   "name": "iqsharp"
  },
  "language_info": {
   "file_extension": ".qs",
   "mimetype": "text/x-qsharp",
   "name": "qsharp",
   "version": "0.4"
  }
 },
 "nbformat": 4,
 "nbformat_minor": 2
}
