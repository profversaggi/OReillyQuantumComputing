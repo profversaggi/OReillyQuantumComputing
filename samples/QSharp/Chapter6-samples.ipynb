{
 "cells": [
  {
   "cell_type": "markdown",
   "metadata": {},
   "source": [
    "![(book cover)](https://covers.oreillystatic.com/images/0636920167433/cat.gif \"(book cover)\")\n",
    "# \"Programming Quantum Computers\" by O'Reilly Media -  [book info](http://shop.oreilly.com/product/0636920167433.do)  - [all code samples](https://oreilly-qc.github.io)\n",
    "\n",
    "## Code samples for Chapter 6\n",
    "These code samples were written by Mariia Mykhailova."
   ]
  },
  {
   "cell_type": "markdown",
   "metadata": {},
   "source": [
    "### Example 6-1: Applying the mirror subroutine to a flipped phase"
   ]
  },
  {
   "cell_type": "code",
   "execution_count": 1,
   "metadata": {},
   "outputs": [
    {
     "data": {
      "application/json": "[\"Flip\",\"Mirror\",\"OneIteration\"]",
      "text/html": [
       "<ul><li>Flip</li><li>Mirror</li><li>OneIteration</li></ul>"
      ],
      "text/plain": [
       "Flip, Mirror, OneIteration"
      ]
     },
     "execution_count": 1,
     "metadata": {},
     "output_type": "execute_result"
    }
   ],
   "source": [
    "// Example 6-1: Applying the mirror subroutine to a flipped phase\n",
    "\n",
    "open Microsoft.Quantum.Arrays;\n",
    "open Microsoft.Quantum.Convert;\n",
    "open Microsoft.Quantum.Diagnostics;\n",
    "\n",
    "// Operation that flips the sign of the marked value in the register\n",
    "operation Flip (markedValue : Int, register : Qubit[]) : Unit is Adj {\n",
    "    let bits = IntAsBoolArray(markedValue, Length(register));\n",
    "    ApplyPauliFromBitString(PauliX, false, bits, register);\n",
    "    Controlled Z(Most(register), Tail(register));\n",
    "    ApplyPauliFromBitString(PauliX, false, bits, register);    \n",
    "}\n",
    "\n",
    "// \"Mirror\" operation\n",
    "operation Mirror (register : Qubit[]) : Unit is Adj {\n",
    "    ApplyToEachA(H, register);\n",
    "    ApplyToEachA(X, register);\n",
    "    Controlled Z(Most(register), Tail(register));\n",
    "    ApplyToEachA(X, register);\n",
    "    ApplyToEachA(H, register);\n",
    "}\n",
    "\n",
    "operation OneIteration () : Unit {\n",
    "    let markedState = 3;\n",
    "    // Allocate the qubit register\n",
    "    using (register = Qubit[4]) {\n",
    "        // Prep\n",
    "        ApplyToEach(H, register);\n",
    "        \n",
    "        // Flip\n",
    "        Flip(markedState, register);\n",
    "        DumpMachine(());\n",
    "        // Note that at this point the marked state will have negative amplitude\n",
    "\n",
    "        // Mirror\n",
    "        Mirror(register);\n",
    "        DumpMachine(());\n",
    "        // Note that after mirroring step the probability of measuring the marked state \n",
    "        // (the first column in square brackets, also indicated by a row of asterisks before it)\n",
    "        // is larger than the others\n",
    "        \n",
    "        // Make sure the qubits are back to the |0❭ state\n",
    "        ResetAll(register);\n",
    "    }\n",
    "}"
   ]
  },
  {
   "cell_type": "code",
   "execution_count": 2,
   "metadata": {
    "scrolled": false
   },
   "outputs": [
    {
     "name": "stdout",
     "output_type": "stream",
     "text": [
      "# wave function for qubits with ids (least to most significant): 0;1;2;3\n",
      "∣ 0❭:\t 0.250000 +  0.000000 i\t == \t**                   [ 0.062500 ]     --- [  0.00000 rad ]\n",
      "∣ 1❭:\t 0.250000 +  0.000000 i\t == \t**                   [ 0.062500 ]     --- [  0.00000 rad ]\n",
      "∣ 2❭:\t 0.250000 +  0.000000 i\t == \t**                   [ 0.062500 ]     --- [  0.00000 rad ]\n",
      "∣ 3❭:\t-0.250000 +  0.000000 i\t == \t**                   [ 0.062500 ] ---     [  3.14159 rad ]\n",
      "∣ 4❭:\t 0.250000 +  0.000000 i\t == \t**                   [ 0.062500 ]     --- [  0.00000 rad ]\n",
      "∣ 5❭:\t 0.250000 +  0.000000 i\t == \t**                   [ 0.062500 ]     --- [  0.00000 rad ]\n",
      "∣ 6❭:\t 0.250000 +  0.000000 i\t == \t**                   [ 0.062500 ]     --- [  0.00000 rad ]\n",
      "∣ 7❭:\t 0.250000 +  0.000000 i\t == \t**                   [ 0.062500 ]     --- [  0.00000 rad ]\n",
      "∣ 8❭:\t 0.250000 +  0.000000 i\t == \t**                   [ 0.062500 ]     --- [  0.00000 rad ]\n",
      "∣ 9❭:\t 0.250000 +  0.000000 i\t == \t**                   [ 0.062500 ]     --- [  0.00000 rad ]\n",
      "∣10❭:\t 0.250000 +  0.000000 i\t == \t**                   [ 0.062500 ]     --- [  0.00000 rad ]\n",
      "∣11❭:\t 0.250000 +  0.000000 i\t == \t**                   [ 0.062500 ]     --- [  0.00000 rad ]\n",
      "∣12❭:\t 0.250000 +  0.000000 i\t == \t**                   [ 0.062500 ]     --- [  0.00000 rad ]\n",
      "∣13❭:\t 0.250000 +  0.000000 i\t == \t**                   [ 0.062500 ]     --- [  0.00000 rad ]\n",
      "∣14❭:\t 0.250000 +  0.000000 i\t == \t**                   [ 0.062500 ]     --- [  0.00000 rad ]\n",
      "∣15❭:\t 0.250000 +  0.000000 i\t == \t**                   [ 0.062500 ]     --- [  0.00000 rad ]\n",
      "# wave function for qubits with ids (least to most significant): 0;1;2;3\n",
      "∣ 0❭:\t-0.187500 +  0.000000 i\t == \t*                    [ 0.035156 ] ---     [  3.14159 rad ]\n",
      "∣ 1❭:\t-0.187500 +  0.000000 i\t == \t*                    [ 0.035156 ] ---     [  3.14159 rad ]\n",
      "∣ 2❭:\t-0.187500 +  0.000000 i\t == \t*                    [ 0.035156 ] ---     [  3.14159 rad ]\n",
      "∣ 3❭:\t-0.687500 +  0.000000 i\t == \t**********           [ 0.472656 ] ---     [  3.14159 rad ]\n",
      "∣ 4❭:\t-0.187500 +  0.000000 i\t == \t*                    [ 0.035156 ] ---     [  3.14159 rad ]\n",
      "∣ 5❭:\t-0.187500 +  0.000000 i\t == \t*                    [ 0.035156 ] ---     [  3.14159 rad ]\n",
      "∣ 6❭:\t-0.187500 +  0.000000 i\t == \t*                    [ 0.035156 ] ---     [  3.14159 rad ]\n",
      "∣ 7❭:\t-0.187500 +  0.000000 i\t == \t*                    [ 0.035156 ] ---     [  3.14159 rad ]\n",
      "∣ 8❭:\t-0.187500 +  0.000000 i\t == \t*                    [ 0.035156 ] ---     [  3.14159 rad ]\n",
      "∣ 9❭:\t-0.187500 +  0.000000 i\t == \t*                    [ 0.035156 ] ---     [  3.14159 rad ]\n",
      "∣10❭:\t-0.187500 +  0.000000 i\t == \t*                    [ 0.035156 ] ---     [  3.14159 rad ]\n",
      "∣11❭:\t-0.187500 +  0.000000 i\t == \t*                    [ 0.035156 ] ---     [  3.14159 rad ]\n",
      "∣12❭:\t-0.187500 +  0.000000 i\t == \t*                    [ 0.035156 ] ---     [  3.14159 rad ]\n",
      "∣13❭:\t-0.187500 +  0.000000 i\t == \t*                    [ 0.035156 ] ---     [  3.14159 rad ]\n",
      "∣14❭:\t-0.187500 +  0.000000 i\t == \t*                    [ 0.035156 ] ---     [  3.14159 rad ]\n",
      "∣15❭:\t-0.187500 +  0.000000 i\t == \t*                    [ 0.035156 ] ---     [  3.14159 rad ]\n"
     ]
    },
    {
     "data": {
      "application/json": "{\"@type\":\"tuple\"}",
      "text/plain": [
       "()"
      ]
     },
     "execution_count": 2,
     "metadata": {},
     "output_type": "execute_result"
    }
   ],
   "source": [
    "%simulate OneIteration"
   ]
  },
  {
   "cell_type": "markdown",
   "metadata": {},
   "source": [
    "### Example 6-2: Repeated amplitude amplification iterations"
   ]
  },
  {
   "cell_type": "code",
   "execution_count": 3,
   "metadata": {},
   "outputs": [
    {
     "data": {
      "application/json": "[\"RepeatedIterations\"]",
      "text/html": [
       "<ul><li>RepeatedIterations</li></ul>"
      ],
      "text/plain": [
       "RepeatedIterations"
      ]
     },
     "execution_count": 3,
     "metadata": {},
     "output_type": "execute_result"
    }
   ],
   "source": [
    "// Example 6-2: Repeated amplitude amplification iterations\n",
    "\n",
    "open Microsoft.Quantum.Arrays;\n",
    "open Microsoft.Quantum.Convert;\n",
    "open Microsoft.Quantum.Diagnostics;\n",
    "\n",
    "operation RepeatedIterations () : Unit {\n",
    "    let markedState = 3;\n",
    "    let numberOfIterations = 4;\n",
    "    // Allocate the qubit register\n",
    "    using (register = Qubit[4]) {\n",
    "        // Prep\n",
    "        ApplyToEach(H, register);\n",
    "        DumpMachine(());\n",
    "        \n",
    "        for (i in 1 .. numberOfIterations) {\n",
    "            Flip(markedState, register);\n",
    "            Mirror(register);\n",
    "            DumpMachine(());\n",
    "            // Observe how the probability of measuring the marked state changes after each iteration\n",
    "        }\n",
    "        \n",
    "        // Make sure the qubits are back to the |0❭ state\n",
    "        ResetAll(register);\n",
    "    }\n",
    "}"
   ]
  },
  {
   "cell_type": "code",
   "execution_count": 4,
   "metadata": {
    "scrolled": true
   },
   "outputs": [
    {
     "name": "stdout",
     "output_type": "stream",
     "text": [
      "# wave function for qubits with ids (least to most significant): 0;1;2;3\n",
      "∣ 0❭:\t 0.250000 +  0.000000 i\t == \t**                   [ 0.062500 ]     --- [  0.00000 rad ]\n",
      "∣ 1❭:\t 0.250000 +  0.000000 i\t == \t**                   [ 0.062500 ]     --- [  0.00000 rad ]\n",
      "∣ 2❭:\t 0.250000 +  0.000000 i\t == \t**                   [ 0.062500 ]     --- [  0.00000 rad ]\n",
      "∣ 3❭:\t 0.250000 +  0.000000 i\t == \t**                   [ 0.062500 ]     --- [  0.00000 rad ]\n",
      "∣ 4❭:\t 0.250000 +  0.000000 i\t == \t**                   [ 0.062500 ]     --- [  0.00000 rad ]\n",
      "∣ 5❭:\t 0.250000 +  0.000000 i\t == \t**                   [ 0.062500 ]     --- [  0.00000 rad ]\n",
      "∣ 6❭:\t 0.250000 +  0.000000 i\t == \t**                   [ 0.062500 ]     --- [  0.00000 rad ]\n",
      "∣ 7❭:\t 0.250000 +  0.000000 i\t == \t**                   [ 0.062500 ]     --- [  0.00000 rad ]\n",
      "∣ 8❭:\t 0.250000 +  0.000000 i\t == \t**                   [ 0.062500 ]     --- [  0.00000 rad ]\n",
      "∣ 9❭:\t 0.250000 +  0.000000 i\t == \t**                   [ 0.062500 ]     --- [  0.00000 rad ]\n",
      "∣10❭:\t 0.250000 +  0.000000 i\t == \t**                   [ 0.062500 ]     --- [  0.00000 rad ]\n",
      "∣11❭:\t 0.250000 +  0.000000 i\t == \t**                   [ 0.062500 ]     --- [  0.00000 rad ]\n",
      "∣12❭:\t 0.250000 +  0.000000 i\t == \t**                   [ 0.062500 ]     --- [  0.00000 rad ]\n",
      "∣13❭:\t 0.250000 +  0.000000 i\t == \t**                   [ 0.062500 ]     --- [  0.00000 rad ]\n",
      "∣14❭:\t 0.250000 +  0.000000 i\t == \t**                   [ 0.062500 ]     --- [  0.00000 rad ]\n",
      "∣15❭:\t 0.250000 +  0.000000 i\t == \t**                   [ 0.062500 ]     --- [  0.00000 rad ]\n",
      "# wave function for qubits with ids (least to most significant): 0;1;2;3\n",
      "∣ 0❭:\t-0.187500 +  0.000000 i\t == \t*                    [ 0.035156 ] ---     [  3.14159 rad ]\n",
      "∣ 1❭:\t-0.187500 +  0.000000 i\t == \t*                    [ 0.035156 ] ---     [  3.14159 rad ]\n",
      "∣ 2❭:\t-0.187500 +  0.000000 i\t == \t*                    [ 0.035156 ] ---     [  3.14159 rad ]\n",
      "∣ 3❭:\t-0.687500 +  0.000000 i\t == \t**********           [ 0.472656 ] ---     [  3.14159 rad ]\n",
      "∣ 4❭:\t-0.187500 +  0.000000 i\t == \t*                    [ 0.035156 ] ---     [  3.14159 rad ]\n",
      "∣ 5❭:\t-0.187500 +  0.000000 i\t == \t*                    [ 0.035156 ] ---     [  3.14159 rad ]\n",
      "∣ 6❭:\t-0.187500 +  0.000000 i\t == \t*                    [ 0.035156 ] ---     [  3.14159 rad ]\n",
      "∣ 7❭:\t-0.187500 +  0.000000 i\t == \t*                    [ 0.035156 ] ---     [  3.14159 rad ]\n",
      "∣ 8❭:\t-0.187500 +  0.000000 i\t == \t*                    [ 0.035156 ] ---     [  3.14159 rad ]\n",
      "∣ 9❭:\t-0.187500 +  0.000000 i\t == \t*                    [ 0.035156 ] ---     [  3.14159 rad ]\n",
      "∣10❭:\t-0.187500 +  0.000000 i\t == \t*                    [ 0.035156 ] ---     [  3.14159 rad ]\n",
      "∣11❭:\t-0.187500 +  0.000000 i\t == \t*                    [ 0.035156 ] ---     [  3.14159 rad ]\n",
      "∣12❭:\t-0.187500 +  0.000000 i\t == \t*                    [ 0.035156 ] ---     [  3.14159 rad ]\n",
      "∣13❭:\t-0.187500 +  0.000000 i\t == \t*                    [ 0.035156 ] ---     [  3.14159 rad ]\n",
      "∣14❭:\t-0.187500 +  0.000000 i\t == \t*                    [ 0.035156 ] ---     [  3.14159 rad ]\n",
      "∣15❭:\t-0.187500 +  0.000000 i\t == \t*                    [ 0.035156 ] ---     [  3.14159 rad ]\n",
      "# wave function for qubits with ids (least to most significant): 0;1;2;3\n",
      "∣ 0❭:\t 0.078125 +  0.000000 i\t == \t*                    [ 0.006104 ]     --- [  0.00000 rad ]\n",
      "∣ 1❭:\t 0.078125 +  0.000000 i\t == \t*                    [ 0.006104 ]     --- [  0.00000 rad ]\n",
      "∣ 2❭:\t 0.078125 +  0.000000 i\t == \t*                    [ 0.006104 ]     --- [  0.00000 rad ]\n",
      "∣ 3❭:\t 0.953125 +  0.000000 i\t == \t*******************  [ 0.908447 ]     --- [  0.00000 rad ]\n",
      "∣ 4❭:\t 0.078125 +  0.000000 i\t == \t*                    [ 0.006104 ]     --- [  0.00000 rad ]\n",
      "∣ 5❭:\t 0.078125 +  0.000000 i\t == \t*                    [ 0.006104 ]     --- [  0.00000 rad ]\n",
      "∣ 6❭:\t 0.078125 +  0.000000 i\t == \t*                    [ 0.006104 ]     --- [  0.00000 rad ]\n",
      "∣ 7❭:\t 0.078125 +  0.000000 i\t == \t*                    [ 0.006104 ]     --- [  0.00000 rad ]\n",
      "∣ 8❭:\t 0.078125 +  0.000000 i\t == \t*                    [ 0.006104 ]     --- [  0.00000 rad ]\n",
      "∣ 9❭:\t 0.078125 +  0.000000 i\t == \t*                    [ 0.006104 ]     --- [  0.00000 rad ]\n",
      "∣10❭:\t 0.078125 +  0.000000 i\t == \t*                    [ 0.006104 ]     --- [  0.00000 rad ]\n",
      "∣11❭:\t 0.078125 +  0.000000 i\t == \t*                    [ 0.006104 ]     --- [  0.00000 rad ]\n",
      "∣12❭:\t 0.078125 +  0.000000 i\t == \t*                    [ 0.006104 ]     --- [  0.00000 rad ]\n",
      "∣13❭:\t 0.078125 +  0.000000 i\t == \t*                    [ 0.006104 ]     --- [  0.00000 rad ]\n",
      "∣14❭:\t 0.078125 +  0.000000 i\t == \t*                    [ 0.006104 ]     --- [  0.00000 rad ]\n",
      "∣15❭:\t 0.078125 +  0.000000 i\t == \t*                    [ 0.006104 ]     --- [  0.00000 rad ]\n",
      "# wave function for qubits with ids (least to most significant): 0;1;2;3\n",
      "∣ 0❭:\t 0.050781 +  0.000000 i\t == \t*                    [ 0.002579 ]     --- [  0.00000 rad ]\n",
      "∣ 1❭:\t 0.050781 +  0.000000 i\t == \t*                    [ 0.002579 ]     --- [  0.00000 rad ]\n",
      "∣ 2❭:\t 0.050781 +  0.000000 i\t == \t*                    [ 0.002579 ]     --- [  0.00000 rad ]\n",
      "∣ 3❭:\t-0.980469 +  0.000000 i\t == \t******************** [ 0.961319 ] ---     [  3.14159 rad ]\n",
      "∣ 4❭:\t 0.050781 +  0.000000 i\t == \t*                    [ 0.002579 ]     --- [  0.00000 rad ]\n",
      "∣ 5❭:\t 0.050781 +  0.000000 i\t == \t*                    [ 0.002579 ]     --- [  0.00000 rad ]\n",
      "∣ 6❭:\t 0.050781 +  0.000000 i\t == \t*                    [ 0.002579 ]     --- [  0.00000 rad ]\n",
      "∣ 7❭:\t 0.050781 +  0.000000 i\t == \t*                    [ 0.002579 ]     --- [  0.00000 rad ]\n",
      "∣ 8❭:\t 0.050781 +  0.000000 i\t == \t*                    [ 0.002579 ]     --- [  0.00000 rad ]\n",
      "∣ 9❭:\t 0.050781 +  0.000000 i\t == \t*                    [ 0.002579 ]     --- [  0.00000 rad ]\n",
      "∣10❭:\t 0.050781 +  0.000000 i\t == \t*                    [ 0.002579 ]     --- [  0.00000 rad ]\n",
      "∣11❭:\t 0.050781 +  0.000000 i\t == \t*                    [ 0.002579 ]     --- [  0.00000 rad ]\n",
      "∣12❭:\t 0.050781 +  0.000000 i\t == \t*                    [ 0.002579 ]     --- [  0.00000 rad ]\n",
      "∣13❭:\t 0.050781 +  0.000000 i\t == \t*                    [ 0.002579 ]     --- [  0.00000 rad ]\n",
      "∣14❭:\t 0.050781 +  0.000000 i\t == \t*                    [ 0.002579 ]     --- [  0.00000 rad ]\n",
      "∣15❭:\t 0.050781 +  0.000000 i\t == \t*                    [ 0.002579 ]     --- [  0.00000 rad ]\n",
      "# wave function for qubits with ids (least to most significant): 0;1;2;3\n",
      "∣ 0❭:\t-0.166992 +  0.000000 i\t == \t*                    [ 0.027886 ] ---     [  3.14159 rad ]\n",
      "∣ 1❭:\t-0.166992 +  0.000000 i\t == \t*                    [ 0.027886 ] ---     [  3.14159 rad ]\n",
      "∣ 2❭:\t-0.166992 +  0.000000 i\t == \t*                    [ 0.027886 ] ---     [  3.14159 rad ]\n",
      "∣ 3❭:\t 0.762695 +  0.000000 i\t == \t************         [ 0.581704 ]     --- [  0.00000 rad ]\n",
      "∣ 4❭:\t-0.166992 +  0.000000 i\t == \t*                    [ 0.027886 ] ---     [  3.14159 rad ]\n",
      "∣ 5❭:\t-0.166992 +  0.000000 i\t == \t*                    [ 0.027886 ] ---     [  3.14159 rad ]\n",
      "∣ 6❭:\t-0.166992 +  0.000000 i\t == \t*                    [ 0.027886 ] ---     [  3.14159 rad ]\n",
      "∣ 7❭:\t-0.166992 +  0.000000 i\t == \t*                    [ 0.027886 ] ---     [  3.14159 rad ]\n",
      "∣ 8❭:\t-0.166992 +  0.000000 i\t == \t*                    [ 0.027886 ] ---     [  3.14159 rad ]\n",
      "∣ 9❭:\t-0.166992 +  0.000000 i\t == \t*                    [ 0.027886 ] ---     [  3.14159 rad ]\n",
      "∣10❭:\t-0.166992 +  0.000000 i\t == \t*                    [ 0.027886 ] ---     [  3.14159 rad ]\n",
      "∣11❭:\t-0.166992 +  0.000000 i\t == \t*                    [ 0.027886 ] ---     [  3.14159 rad ]\n",
      "∣12❭:\t-0.166992 +  0.000000 i\t == \t*                    [ 0.027886 ] ---     [  3.14159 rad ]\n",
      "∣13❭:\t-0.166992 +  0.000000 i\t == \t*                    [ 0.027886 ] ---     [  3.14159 rad ]\n",
      "∣14❭:\t-0.166992 +  0.000000 i\t == \t*                    [ 0.027886 ] ---     [  3.14159 rad ]\n",
      "∣15❭:\t-0.166992 +  0.000000 i\t == \t*                    [ 0.027886 ] ---     [  3.14159 rad ]\n"
     ]
    },
    {
     "data": {
      "application/json": "{\"@type\":\"tuple\"}",
      "text/plain": [
       "()"
      ]
     },
     "execution_count": 4,
     "metadata": {},
     "output_type": "execute_result"
    }
   ],
   "source": [
    "%simulate RepeatedIterations"
   ]
  },
  {
   "cell_type": "markdown",
   "metadata": {},
   "source": [
    "### Example 6-3: Amplitude amplification iterations with multiple values flipped"
   ]
  },
  {
   "cell_type": "code",
   "execution_count": 5,
   "metadata": {},
   "outputs": [
    {
     "data": {
      "application/json": "[\"FlipMultipleStates\",\"MultipleTerms\"]",
      "text/html": [
       "<ul><li>FlipMultipleStates</li><li>MultipleTerms</li></ul>"
      ],
      "text/plain": [
       "FlipMultipleStates, MultipleTerms"
      ]
     },
     "execution_count": 5,
     "metadata": {},
     "output_type": "execute_result"
    }
   ],
   "source": [
    "// Example 6-3: Amplitude amplification iterations with multiple values flipped\n",
    "\n",
    "open Microsoft.Quantum.Arrays;\n",
    "open Microsoft.Quantum.Convert;\n",
    "open Microsoft.Quantum.Diagnostics;\n",
    "\n",
    "// Operation that flips the sign of multiple marked values\n",
    "operation FlipMultipleStates (markedValues : Int[], register : Qubit[]) : Unit is Adj {\n",
    "    ApplyToEachA(Flip(_, register), markedValues);\n",
    "}\n",
    "\n",
    "operation MultipleTerms () : Unit {\n",
    "    let markedStates = [0, 1, 2];\n",
    "    let numberOfIterations = 4;\n",
    "    // Allocate the qubit register\n",
    "    using (register = Qubit[4]) {\n",
    "        // Prep\n",
    "        ApplyToEach(H, register);\n",
    "        \n",
    "        for (i in 1 .. numberOfIterations) {\n",
    "            // Flip\n",
    "            FlipMultipleStates(markedStates, register);\n",
    "            // Mirror\n",
    "            Mirror(register);\n",
    "            DumpMachine(());\n",
    "        }\n",
    "        \n",
    "        // Make sure the qubits are back to the |0❭ state\n",
    "        ResetAll(register);\n",
    "    }\n",
    "}"
   ]
  },
  {
   "cell_type": "code",
   "execution_count": 6,
   "metadata": {
    "scrolled": true
   },
   "outputs": [
    {
     "name": "stdout",
     "output_type": "stream",
     "text": [
      "# wave function for qubits with ids (least to most significant): 0;1;2;3\n",
      "∣ 0❭:\t-0.562500 +  0.000000 i\t == \t*******              [ 0.316406 ] ---     [  3.14159 rad ]\n",
      "∣ 1❭:\t-0.562500 +  0.000000 i\t == \t*******              [ 0.316406 ] ---     [  3.14159 rad ]\n",
      "∣ 2❭:\t-0.562500 +  0.000000 i\t == \t*******              [ 0.316406 ] ---     [  3.14159 rad ]\n",
      "∣ 3❭:\t-0.062500 +  0.000000 i\t == \t*                    [ 0.003906 ] ---     [  3.14159 rad ]\n",
      "∣ 4❭:\t-0.062500 +  0.000000 i\t == \t*                    [ 0.003906 ] ---     [  3.14159 rad ]\n",
      "∣ 5❭:\t-0.062500 +  0.000000 i\t == \t*                    [ 0.003906 ] ---     [  3.14159 rad ]\n",
      "∣ 6❭:\t-0.062500 +  0.000000 i\t == \t*                    [ 0.003906 ] ---     [  3.14159 rad ]\n",
      "∣ 7❭:\t-0.062500 +  0.000000 i\t == \t*                    [ 0.003906 ] ---     [  3.14159 rad ]\n",
      "∣ 8❭:\t-0.062500 +  0.000000 i\t == \t*                    [ 0.003906 ] ---     [  3.14159 rad ]\n",
      "∣ 9❭:\t-0.062500 +  0.000000 i\t == \t*                    [ 0.003906 ] ---     [  3.14159 rad ]\n",
      "∣10❭:\t-0.062500 +  0.000000 i\t == \t*                    [ 0.003906 ] ---     [  3.14159 rad ]\n",
      "∣11❭:\t-0.062500 +  0.000000 i\t == \t*                    [ 0.003906 ] ---     [  3.14159 rad ]\n",
      "∣12❭:\t-0.062500 +  0.000000 i\t == \t*                    [ 0.003906 ] ---     [  3.14159 rad ]\n",
      "∣13❭:\t-0.062500 +  0.000000 i\t == \t*                    [ 0.003906 ] ---     [  3.14159 rad ]\n",
      "∣14❭:\t-0.062500 +  0.000000 i\t == \t*                    [ 0.003906 ] ---     [  3.14159 rad ]\n",
      "∣15❭:\t-0.062500 +  0.000000 i\t == \t*                    [ 0.003906 ] ---     [  3.14159 rad ]\n",
      "# wave function for qubits with ids (least to most significant): 0;1;2;3\n",
      "∣ 0❭:\t 0.453125 +  0.000000 i\t == \t*****                [ 0.205322 ]     --- [  0.00000 rad ]\n",
      "∣ 1❭:\t 0.453125 +  0.000000 i\t == \t*****                [ 0.205322 ]     --- [  0.00000 rad ]\n",
      "∣ 2❭:\t 0.453125 +  0.000000 i\t == \t*****                [ 0.205322 ]     --- [  0.00000 rad ]\n",
      "∣ 3❭:\t-0.171875 +  0.000000 i\t == \t*                    [ 0.029541 ] ---     [  3.14159 rad ]\n",
      "∣ 4❭:\t-0.171875 +  0.000000 i\t == \t*                    [ 0.029541 ] ---     [  3.14159 rad ]\n",
      "∣ 5❭:\t-0.171875 +  0.000000 i\t == \t*                    [ 0.029541 ] ---     [  3.14159 rad ]\n",
      "∣ 6❭:\t-0.171875 +  0.000000 i\t == \t*                    [ 0.029541 ] ---     [  3.14159 rad ]\n",
      "∣ 7❭:\t-0.171875 +  0.000000 i\t == \t*                    [ 0.029541 ] ---     [  3.14159 rad ]\n",
      "∣ 8❭:\t-0.171875 +  0.000000 i\t == \t*                    [ 0.029541 ] ---     [  3.14159 rad ]\n",
      "∣ 9❭:\t-0.171875 +  0.000000 i\t == \t*                    [ 0.029541 ] ---     [  3.14159 rad ]\n",
      "∣10❭:\t-0.171875 +  0.000000 i\t == \t*                    [ 0.029541 ] ---     [  3.14159 rad ]\n",
      "∣11❭:\t-0.171875 +  0.000000 i\t == \t*                    [ 0.029541 ] ---     [  3.14159 rad ]\n",
      "∣12❭:\t-0.171875 +  0.000000 i\t == \t*                    [ 0.029541 ] ---     [  3.14159 rad ]\n",
      "∣13❭:\t-0.171875 +  0.000000 i\t == \t*                    [ 0.029541 ] ---     [  3.14159 rad ]\n",
      "∣14❭:\t-0.171875 +  0.000000 i\t == \t*                    [ 0.029541 ] ---     [  3.14159 rad ]\n",
      "∣15❭:\t-0.171875 +  0.000000 i\t == \t*                    [ 0.029541 ] ---     [  3.14159 rad ]\n",
      "# wave function for qubits with ids (least to most significant): 0;1;2;3\n",
      "∣ 0❭:\t-0.003906 +  0.000000 i\t == \t*                    [ 0.000015 ] ---     [  3.14159 rad ]\n",
      "∣ 1❭:\t-0.003906 +  0.000000 i\t == \t*                    [ 0.000015 ] ---     [  3.14159 rad ]\n",
      "∣ 2❭:\t-0.003906 +  0.000000 i\t == \t*                    [ 0.000015 ] ---     [  3.14159 rad ]\n",
      "∣ 3❭:\t 0.277344 +  0.000000 i\t == \t**                   [ 0.076920 ]     --- [  0.00000 rad ]\n",
      "∣ 4❭:\t 0.277344 +  0.000000 i\t == \t**                   [ 0.076920 ]     --- [  0.00000 rad ]\n",
      "∣ 5❭:\t 0.277344 +  0.000000 i\t == \t**                   [ 0.076920 ]     --- [  0.00000 rad ]\n",
      "∣ 6❭:\t 0.277344 +  0.000000 i\t == \t**                   [ 0.076920 ]     --- [  0.00000 rad ]\n",
      "∣ 7❭:\t 0.277344 +  0.000000 i\t == \t**                   [ 0.076920 ]     --- [  0.00000 rad ]\n",
      "∣ 8❭:\t 0.277344 +  0.000000 i\t == \t**                   [ 0.076920 ]     --- [  0.00000 rad ]\n",
      "∣ 9❭:\t 0.277344 +  0.000000 i\t == \t**                   [ 0.076920 ]     --- [  0.00000 rad ]\n",
      "∣10❭:\t 0.277344 +  0.000000 i\t == \t**                   [ 0.076920 ]     --- [  0.00000 rad ]\n",
      "∣11❭:\t 0.277344 +  0.000000 i\t == \t**                   [ 0.076920 ]     --- [  0.00000 rad ]\n",
      "∣12❭:\t 0.277344 +  0.000000 i\t == \t**                   [ 0.076920 ]     --- [  0.00000 rad ]\n",
      "∣13❭:\t 0.277344 +  0.000000 i\t == \t**                   [ 0.076920 ]     --- [  0.00000 rad ]\n",
      "∣14❭:\t 0.277344 +  0.000000 i\t == \t**                   [ 0.076920 ]     --- [  0.00000 rad ]\n",
      "∣15❭:\t 0.277344 +  0.000000 i\t == \t**                   [ 0.076920 ]     --- [  0.00000 rad ]\n",
      "# wave function for qubits with ids (least to most significant): 0;1;2;3\n",
      "∣ 0❭:\t-0.448242 +  0.000000 i\t == \t*****                [ 0.200921 ] ---     [  3.14159 rad ]\n",
      "∣ 1❭:\t-0.448242 +  0.000000 i\t == \t*****                [ 0.200921 ] ---     [  3.14159 rad ]\n",
      "∣ 2❭:\t-0.448242 +  0.000000 i\t == \t*****                [ 0.200921 ] ---     [  3.14159 rad ]\n",
      "∣ 3❭:\t-0.174805 +  0.000000 i\t == \t*                    [ 0.030557 ] ---     [  3.14159 rad ]\n",
      "∣ 4❭:\t-0.174805 +  0.000000 i\t == \t*                    [ 0.030557 ] ---     [  3.14159 rad ]\n",
      "∣ 5❭:\t-0.174805 +  0.000000 i\t == \t*                    [ 0.030557 ] ---     [  3.14159 rad ]\n",
      "∣ 6❭:\t-0.174805 +  0.000000 i\t == \t*                    [ 0.030557 ] ---     [  3.14159 rad ]\n",
      "∣ 7❭:\t-0.174805 +  0.000000 i\t == \t*                    [ 0.030557 ] ---     [  3.14159 rad ]\n",
      "∣ 8❭:\t-0.174805 +  0.000000 i\t == \t*                    [ 0.030557 ] ---     [  3.14159 rad ]\n",
      "∣ 9❭:\t-0.174805 +  0.000000 i\t == \t*                    [ 0.030557 ] ---     [  3.14159 rad ]\n",
      "∣10❭:\t-0.174805 +  0.000000 i\t == \t*                    [ 0.030557 ] ---     [  3.14159 rad ]\n",
      "∣11❭:\t-0.174805 +  0.000000 i\t == \t*                    [ 0.030557 ] ---     [  3.14159 rad ]\n",
      "∣12❭:\t-0.174805 +  0.000000 i\t == \t*                    [ 0.030557 ] ---     [  3.14159 rad ]\n",
      "∣13❭:\t-0.174805 +  0.000000 i\t == \t*                    [ 0.030557 ] ---     [  3.14159 rad ]\n",
      "∣14❭:\t-0.174805 +  0.000000 i\t == \t*                    [ 0.030557 ] ---     [  3.14159 rad ]\n",
      "∣15❭:\t-0.174805 +  0.000000 i\t == \t*                    [ 0.030557 ] ---     [  3.14159 rad ]\n"
     ]
    },
    {
     "data": {
      "application/json": "{\"@type\":\"tuple\"}",
      "text/plain": [
       "()"
      ]
     },
     "execution_count": 6,
     "metadata": {},
     "output_type": "execute_result"
    }
   ],
   "source": [
    "%simulate MultipleTerms"
   ]
  }
 ],
 "metadata": {
  "kernelspec": {
   "display_name": "Q#",
   "language": "qsharp",
   "name": "iqsharp"
  },
  "language_info": {
   "file_extension": ".qs",
   "mimetype": "text/x-qsharp",
   "name": "qsharp",
   "version": "0.4"
  }
 },
 "nbformat": 4,
 "nbformat_minor": 2
}
