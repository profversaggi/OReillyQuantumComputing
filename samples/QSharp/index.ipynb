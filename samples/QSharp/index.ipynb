{
 "cells": [
  {
   "cell_type": "markdown",
   "metadata": {},
   "source": [
    "![(book cover)](https://covers.oreillystatic.com/images/0636920167433/cat.gif \"(book cover)\")\n",
    "# \"Programming Quantum Computers\" by O'Reilly Media - [book info](http://shop.oreilly.com/product/0636920167433.do)  - [all code samples](https://oreilly-qc.github.io)\n",
    "\n",
    "## Q# Code samples\n",
    "\n",
    "* [Chapter 2](./Chapter2-samples.ipynb)\n",
    "* [Chapter 3](./Chapter3-samples.ipynb)\n",
    "* [Chapter 5](./Chapter5-samples.ipynb)\n",
    "* [Chapter 6](./Chapter6-samples.ipynb)\n",
    "* [Chapter 10](./Chapter10-samples.ipynb)"
   ]
  }
 ],
 "metadata": {
  "kernelspec": {
   "display_name": "Q#",
   "language": "qsharp",
   "name": "iqsharp"
  },
  "language_info": {
   "file_extension": ".qs",
   "mimetype": "text/x-qsharp",
   "name": "qsharp",
   "version": "0.4"
  }
 },
 "nbformat": 4,
 "nbformat_minor": 2
}
