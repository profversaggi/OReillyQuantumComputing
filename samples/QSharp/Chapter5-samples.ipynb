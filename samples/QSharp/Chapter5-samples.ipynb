{
 "cells": [
  {
   "cell_type": "markdown",
   "metadata": {},
   "source": [
    "![(book cover)](https://covers.oreillystatic.com/images/0636920167433/cat.gif \"(book cover)\")\n",
    "# \"Programming Quantum Computers\" by O'Reilly Media -  [book info](http://shop.oreilly.com/product/0636920167433.do)  - [all code samples](https://oreilly-qc.github.io)\n",
    "\n",
    "## Code samples for Chapter 5\n",
    "These code samples were written by Mariia Mykhailova."
   ]
  },
  {
   "cell_type": "markdown",
   "metadata": {},
   "source": [
    "### Example 5-1: Integer increment-by-one operation"
   ]
  },
  {
   "cell_type": "markdown",
   "metadata": {},
   "source": [
    "#### Example 5-1, part 1: Integer increment-by-one operation (circuit implementation)"
   ]
  },
  {
   "cell_type": "code",
   "execution_count": 1,
   "metadata": {},
   "outputs": [
    {
     "data": {
      "application/json": "[\"CircuitIncrement\",\"CircuitIncrementAndDecrement\"]",
      "text/html": [
       "<ul><li>CircuitIncrement</li><li>CircuitIncrementAndDecrement</li></ul>"
      ],
      "text/plain": [
       "CircuitIncrement, CircuitIncrementAndDecrement"
      ]
     },
     "execution_count": 1,
     "metadata": {},
     "output_type": "execute_result"
    }
   ],
   "source": [
    "// Example 5-1: Integer increment-by-one operation (circuit implementation)\n",
    "\n",
    "open Microsoft.Quantum.Diagnostics;\n",
    "\n",
    "// Circuit implementation of modular increment operation\n",
    "operation CircuitIncrement (register : Qubit[]) : Unit is Adj {\n",
    "    for (i in Length(register) - 1 .. -1 .. 0) {\n",
    "        Controlled X(register[0 .. i - 1], register[i]);\n",
    "    }\n",
    "}\n",
    "\n",
    "operation CircuitIncrementAndDecrement () : Unit {\n",
    "    // allocate the qubit register\n",
    "    using (register = Qubit[4]) {\n",
    "        // initialize the inputs\n",
    "        X(register[0]);\n",
    "        H(register[2]);\n",
    "        T(register[2]);\n",
    "        \n",
    "        DumpMachine(());\n",
    "        // note that at this point non-zero amplitudes are at the basis states |1❭ and |5❭\n",
    "\n",
    "        Message(\"Increment (circuit implementation)\");\n",
    "        CircuitIncrement(register);\n",
    "        DumpMachine(());\n",
    "        // note that after incrementing the same amplitudes shifted to the basis states |5❭ and |6❭\n",
    "        \n",
    "        // decrement is an adjoint of increment, so we don't need to implement it separately\n",
    "        Message(\"Decrement (curcuit implementation)\");\n",
    "        Adjoint CircuitIncrement(register);\n",
    "        DumpMachine(());\n",
    "        \n",
    "        // make sure the qubits are back to the |0❭ state\n",
    "        ResetAll(register);\n",
    "    }\n",
    "}"
   ]
  },
  {
   "cell_type": "code",
   "execution_count": 2,
   "metadata": {
    "scrolled": false
   },
   "outputs": [
    {
     "name": "stdout",
     "output_type": "stream",
     "text": [
      "# wave function for qubits with ids (least to most significant): 0;1;2;3\n",
      "∣ 0❭:\t 0.000000 +  0.000000 i\t == \t                     [ 0.000000 ]                   \n",
      "∣ 1❭:\t 0.707107 +  0.000000 i\t == \t***********          [ 0.500000 ]     --- [  0.00000 rad ]\n",
      "∣ 2❭:\t 0.000000 +  0.000000 i\t == \t                     [ 0.000000 ]                   \n",
      "∣ 3❭:\t 0.000000 +  0.000000 i\t == \t                     [ 0.000000 ]                   \n",
      "∣ 4❭:\t 0.000000 +  0.000000 i\t == \t                     [ 0.000000 ]                   \n",
      "∣ 5❭:\t 0.500000 +  0.500000 i\t == \t***********          [ 0.500000 ]      /  [  0.78540 rad ]\n",
      "∣ 6❭:\t 0.000000 +  0.000000 i\t == \t                     [ 0.000000 ]                   \n",
      "∣ 7❭:\t 0.000000 +  0.000000 i\t == \t                     [ 0.000000 ]                   \n",
      "∣ 8❭:\t 0.000000 +  0.000000 i\t == \t                     [ 0.000000 ]                   \n",
      "∣ 9❭:\t 0.000000 +  0.000000 i\t == \t                     [ 0.000000 ]                   \n",
      "∣10❭:\t 0.000000 +  0.000000 i\t == \t                     [ 0.000000 ]                   \n",
      "∣11❭:\t 0.000000 +  0.000000 i\t == \t                     [ 0.000000 ]                   \n",
      "∣12❭:\t 0.000000 +  0.000000 i\t == \t                     [ 0.000000 ]                   \n",
      "∣13❭:\t 0.000000 +  0.000000 i\t == \t                     [ 0.000000 ]                   \n",
      "∣14❭:\t 0.000000 +  0.000000 i\t == \t                     [ 0.000000 ]                   \n",
      "∣15❭:\t 0.000000 +  0.000000 i\t == \t                     [ 0.000000 ]                   \n",
      "Increment (circuit implementation)\n",
      "# wave function for qubits with ids (least to most significant): 0;1;2;3\n",
      "∣ 0❭:\t 0.000000 +  0.000000 i\t == \t                     [ 0.000000 ]                   \n",
      "∣ 1❭:\t 0.000000 +  0.000000 i\t == \t                     [ 0.000000 ]                   \n",
      "∣ 2❭:\t 0.707107 +  0.000000 i\t == \t***********          [ 0.500000 ]     --- [  0.00000 rad ]\n",
      "∣ 3❭:\t 0.000000 +  0.000000 i\t == \t                     [ 0.000000 ]                   \n",
      "∣ 4❭:\t 0.000000 +  0.000000 i\t == \t                     [ 0.000000 ]                   \n",
      "∣ 5❭:\t 0.000000 +  0.000000 i\t == \t                     [ 0.000000 ]                   \n",
      "∣ 6❭:\t 0.500000 +  0.500000 i\t == \t***********          [ 0.500000 ]      /  [  0.78540 rad ]\n",
      "∣ 7❭:\t 0.000000 +  0.000000 i\t == \t                     [ 0.000000 ]                   \n",
      "∣ 8❭:\t 0.000000 +  0.000000 i\t == \t                     [ 0.000000 ]                   \n",
      "∣ 9❭:\t 0.000000 +  0.000000 i\t == \t                     [ 0.000000 ]                   \n",
      "∣10❭:\t 0.000000 +  0.000000 i\t == \t                     [ 0.000000 ]                   \n",
      "∣11❭:\t 0.000000 +  0.000000 i\t == \t                     [ 0.000000 ]                   \n",
      "∣12❭:\t 0.000000 +  0.000000 i\t == \t                     [ 0.000000 ]                   \n",
      "∣13❭:\t 0.000000 +  0.000000 i\t == \t                     [ 0.000000 ]                   \n",
      "∣14❭:\t 0.000000 +  0.000000 i\t == \t                     [ 0.000000 ]                   \n",
      "∣15❭:\t 0.000000 +  0.000000 i\t == \t                     [ 0.000000 ]                   \n",
      "Decrement (curcuit implementation)\n",
      "# wave function for qubits with ids (least to most significant): 0;1;2;3\n",
      "∣ 0❭:\t 0.000000 +  0.000000 i\t == \t                     [ 0.000000 ]                   \n",
      "∣ 1❭:\t 0.707107 +  0.000000 i\t == \t***********          [ 0.500000 ]     --- [  0.00000 rad ]\n",
      "∣ 2❭:\t 0.000000 +  0.000000 i\t == \t                     [ 0.000000 ]                   \n",
      "∣ 3❭:\t 0.000000 +  0.000000 i\t == \t                     [ 0.000000 ]                   \n",
      "∣ 4❭:\t 0.000000 +  0.000000 i\t == \t                     [ 0.000000 ]                   \n",
      "∣ 5❭:\t 0.500000 +  0.500000 i\t == \t***********          [ 0.500000 ]      /  [  0.78540 rad ]\n",
      "∣ 6❭:\t 0.000000 +  0.000000 i\t == \t                     [ 0.000000 ]                   \n",
      "∣ 7❭:\t 0.000000 +  0.000000 i\t == \t                     [ 0.000000 ]                   \n",
      "∣ 8❭:\t 0.000000 +  0.000000 i\t == \t                     [ 0.000000 ]                   \n",
      "∣ 9❭:\t 0.000000 +  0.000000 i\t == \t                     [ 0.000000 ]                   \n",
      "∣10❭:\t 0.000000 +  0.000000 i\t == \t                     [ 0.000000 ]                   \n",
      "∣11❭:\t 0.000000 +  0.000000 i\t == \t                     [ 0.000000 ]                   \n",
      "∣12❭:\t 0.000000 +  0.000000 i\t == \t                     [ 0.000000 ]                   \n",
      "∣13❭:\t 0.000000 +  0.000000 i\t == \t                     [ 0.000000 ]                   \n",
      "∣14❭:\t 0.000000 +  0.000000 i\t == \t                     [ 0.000000 ]                   \n",
      "∣15❭:\t 0.000000 +  0.000000 i\t == \t                     [ 0.000000 ]                   \n"
     ]
    },
    {
     "data": {
      "application/json": "{\"@type\":\"tuple\"}",
      "text/plain": [
       "()"
      ]
     },
     "execution_count": 2,
     "metadata": {},
     "output_type": "execute_result"
    }
   ],
   "source": [
    "%simulate CircuitIncrementAndDecrement"
   ]
  },
  {
   "cell_type": "markdown",
   "metadata": {},
   "source": [
    "#### Example 5-1, part 2: Integer increment-by-one operation (using library operation)"
   ]
  },
  {
   "cell_type": "code",
   "execution_count": 3,
   "metadata": {},
   "outputs": [
    {
     "data": {
      "application/json": "[\"LibraryIncrementAndDecrement\"]",
      "text/html": [
       "<ul><li>LibraryIncrementAndDecrement</li></ul>"
      ],
      "text/plain": [
       "LibraryIncrementAndDecrement"
      ]
     },
     "execution_count": 3,
     "metadata": {},
     "output_type": "execute_result"
    }
   ],
   "source": [
    "// Example 5-1: Integer increment-by-one operation (using library operation)\n",
    "\n",
    "open Microsoft.Quantum.Arithmetic;\n",
    "open Microsoft.Quantum.Diagnostics;\n",
    "\n",
    "operation LibraryIncrementAndDecrement () : Unit {\n",
    "    // allocate the qubit register\n",
    "    using (register = Qubit[4]) {\n",
    "        // initialize the inputs\n",
    "        X(register[0]);\n",
    "        H(register[2]);\n",
    "        T(register[2]);\n",
    "        \n",
    "        DumpMachine(());\n",
    "        // note that at this point non-zero amplitudes are at the basis states |1❭ and |5❭\n",
    "\n",
    "        // Increment the register using library implementation of the increment from Microsoft.Quantum.Arithmetic\n",
    "        Message(\"Increment (library implementation)\");\n",
    "        IncrementByInteger(1, LittleEndian(register));\n",
    "        DumpMachine(());\n",
    "\n",
    "        Message(\"Decrement (library implementation)\");\n",
    "        IncrementByInteger(-1, LittleEndian(register));\n",
    "        DumpMachine(());\n",
    "\n",
    "        // make sure the qubits are back to the |0❭ state\n",
    "        ResetAll(register);\n",
    "    }\n",
    "}"
   ]
  },
  {
   "cell_type": "code",
   "execution_count": 4,
   "metadata": {
    "scrolled": true
   },
   "outputs": [
    {
     "name": "stdout",
     "output_type": "stream",
     "text": [
      "# wave function for qubits with ids (least to most significant): 0;1;2;3\n",
      "∣ 0❭:\t 0.000000 +  0.000000 i\t == \t                     [ 0.000000 ]                   \n",
      "∣ 1❭:\t 0.707107 +  0.000000 i\t == \t***********          [ 0.500000 ]     --- [  0.00000 rad ]\n",
      "∣ 2❭:\t 0.000000 +  0.000000 i\t == \t                     [ 0.000000 ]                   \n",
      "∣ 3❭:\t 0.000000 +  0.000000 i\t == \t                     [ 0.000000 ]                   \n",
      "∣ 4❭:\t 0.000000 +  0.000000 i\t == \t                     [ 0.000000 ]                   \n",
      "∣ 5❭:\t 0.500000 +  0.500000 i\t == \t***********          [ 0.500000 ]      /  [  0.78540 rad ]\n",
      "∣ 6❭:\t 0.000000 +  0.000000 i\t == \t                     [ 0.000000 ]                   \n",
      "∣ 7❭:\t 0.000000 +  0.000000 i\t == \t                     [ 0.000000 ]                   \n",
      "∣ 8❭:\t 0.000000 +  0.000000 i\t == \t                     [ 0.000000 ]                   \n",
      "∣ 9❭:\t 0.000000 +  0.000000 i\t == \t                     [ 0.000000 ]                   \n",
      "∣10❭:\t 0.000000 +  0.000000 i\t == \t                     [ 0.000000 ]                   \n",
      "∣11❭:\t 0.000000 +  0.000000 i\t == \t                     [ 0.000000 ]                   \n",
      "∣12❭:\t 0.000000 +  0.000000 i\t == \t                     [ 0.000000 ]                   \n",
      "∣13❭:\t 0.000000 +  0.000000 i\t == \t                     [ 0.000000 ]                   \n",
      "∣14❭:\t 0.000000 +  0.000000 i\t == \t                     [ 0.000000 ]                   \n",
      "∣15❭:\t 0.000000 +  0.000000 i\t == \t                     [ 0.000000 ]                   \n",
      "Increment (library implementation)\n",
      "# wave function for qubits with ids (least to most significant): 0;1;2;3\n",
      "∣ 0❭:\t 0.000000 + -0.000000 i\t == \t*                    [ 0.000000 ]      \\+ [ -0.41686 rad ]\n",
      "∣ 1❭:\t-0.000000 +  0.000000 i\t == \t*                    [ 0.000000 ]  \\      [  2.40393 rad ]\n",
      "∣ 2❭:\t 0.707107 + -0.000000 i\t == \t***********          [ 0.500000 ]     --- [ -0.00000 rad ]\n",
      "∣ 3❭:\t 0.000000 +  0.000000 i\t == \t*                    [ 0.000000 ]      /- [  0.52907 rad ]\n",
      "∣ 4❭:\t-0.000000 +  0.000000 i\t == \t*                    [ 0.000000 ]  \\      [  2.24554 rad ]\n",
      "∣ 5❭:\t-0.000000 +  0.000000 i\t == \t*                    [ 0.000000 ]  \\      [  2.19320 rad ]\n",
      "∣ 6❭:\t 0.500000 +  0.500000 i\t == \t***********          [ 0.500000 ]      /  [  0.78540 rad ]\n",
      "∣ 7❭:\t 0.000000 +  0.000000 i\t == \t*                    [ 0.000000 ]      /- [  0.38624 rad ]\n",
      "∣ 8❭:\t-0.000000 +  0.000000 i\t == \t*                    [ 0.000000 ]  \\      [  2.40098 rad ]\n",
      "∣ 9❭:\t-0.000000 +  0.000000 i\t == \t*                    [ 0.000000 ]  \\-     [  1.91644 rad ]\n",
      "∣10❭:\t 0.000000 +  0.000000 i\t == \t*                    [ 0.000000 ]     +/  [  1.31241 rad ]\n",
      "∣11❭:\t 0.000000 +  0.000000 i\t == \t*                    [ 0.000000 ]      /  [  0.68983 rad ]\n",
      "∣12❭:\t 0.000000 + -0.000000 i\t == \t*                    [ 0.000000 ]      \\+ [ -0.52050 rad ]\n",
      "∣13❭:\t 0.000000 + -0.000000 i\t == \t*                    [ 0.000000 ]      \\+ [ -0.46724 rad ]\n",
      "∣14❭:\t-0.000000 +  0.000000 i\t == \t*                    [ 0.000000 ] +\\      [  2.65533 rad ]\n",
      "∣15❭:\t-0.000000 + -0.000000 i\t == \t*                    [ 0.000000 ]  /+     [ -2.11022 rad ]\n",
      "Decrement (library implementation)\n",
      "# wave function for qubits with ids (least to most significant): 0;1;2;3\n",
      "∣ 0❭:\t 0.000000 +  0.000000 i\t == \t*                    [ 0.000000 ]      /- [  0.28991 rad ]\n",
      "∣ 1❭:\t 0.707107 +  0.000000 i\t == \t***********          [ 0.500000 ]     --- [  0.00000 rad ]\n",
      "∣ 2❭:\t 0.000000 + -0.000000 i\t == \t*                    [ 0.000000 ]     -\\  [ -0.98730 rad ]\n",
      "∣ 3❭:\t 0.000000 + -0.000000 i\t == \t*                    [ 0.000000 ]     -\\  [ -0.99854 rad ]\n",
      "∣ 4❭:\t 0.000000 + -0.000000 i\t == \t*                    [ 0.000000 ]     --- [ -0.07472 rad ]\n",
      "∣ 5❭:\t 0.500000 +  0.500000 i\t == \t***********          [ 0.500000 ]      /  [  0.78540 rad ]\n",
      "∣ 6❭:\t-0.000000 +  0.000000 i\t == \t*                    [ 0.000000 ]  \\      [  2.35866 rad ]\n",
      "∣ 7❭:\t 0.000000 +  0.000000 i\t == \t*                    [ 0.000000 ]    ↑    [  1.39228 rad ]\n",
      "∣ 8❭:\t-0.000000 +  0.000000 i\t == \t*                    [ 0.000000 ] ---     [  3.08473 rad ]\n",
      "∣ 9❭:\t 0.000000 +  0.000000 i\t == \t*                    [ 0.000000 ]    ↑    [  1.37511 rad ]\n",
      "∣10❭:\t-0.000000 + -0.000000 i\t == \t*                    [ 0.000000 ] -/      [ -2.74208 rad ]\n",
      "∣11❭:\t-0.000000 +  0.000000 i\t == \t*                    [ 0.000000 ] +\\      [  2.62656 rad ]\n",
      "∣12❭:\t 0.000000 + -0.000000 i\t == \t*                    [ 0.000000 ]     -\\  [ -1.23329 rad ]\n",
      "∣13❭:\t-0.000000 +  0.000000 i\t == \t*                    [ 0.000000 ]    ↑    [  1.57080 rad ]\n",
      "∣14❭:\t 0.000000 + -0.000000 i\t == \t*                    [ 0.000000 ]     -\\  [ -1.06049 rad ]\n",
      "∣15❭:\t-0.000000 + -0.000000 i\t == \t*                    [ 0.000000 ] -/      [ -2.84845 rad ]\n"
     ]
    },
    {
     "data": {
      "application/json": "{\"@type\":\"tuple\"}",
      "text/plain": [
       "()"
      ]
     },
     "execution_count": 4,
     "metadata": {},
     "output_type": "execute_result"
    }
   ],
   "source": [
    "%simulate LibraryIncrementAndDecrement"
   ]
  },
  {
   "cell_type": "markdown",
   "metadata": {},
   "source": [
    "### Example 5-2: Adding two quantum integers"
   ]
  },
  {
   "cell_type": "code",
   "execution_count": 5,
   "metadata": {
    "scrolled": true
   },
   "outputs": [
    {
     "data": {
      "application/json": "[\"Microsoft.Quantum.Standard::0.10.1911.1607\",\"Microsoft.Quantum.Numerics::0.10.1911.1607\"]",
      "text/html": [
       "<ul><li>Microsoft.Quantum.Standard::0.10.1911.1607</li><li>Microsoft.Quantum.Numerics::0.10.1911.1607</li></ul>"
      ],
      "text/plain": [
       "Microsoft.Quantum.Standard::0.10.1911.1607, Microsoft.Quantum.Numerics::0.10.1911.1607"
      ]
     },
     "execution_count": 5,
     "metadata": {},
     "output_type": "execute_result"
    }
   ],
   "source": [
    "%package Microsoft.Quantum.Numerics"
   ]
  },
  {
   "cell_type": "code",
   "execution_count": 6,
   "metadata": {},
   "outputs": [
    {
     "data": {
      "application/json": "[\"QuantumAddition\"]",
      "text/html": [
       "<ul><li>QuantumAddition</li></ul>"
      ],
      "text/plain": [
       "QuantumAddition"
      ]
     },
     "execution_count": 6,
     "metadata": {},
     "output_type": "execute_result"
    }
   ],
   "source": [
    "// Example 5-2: Adding two quantum integers\n",
    "\n",
    "open Microsoft.Quantum.Diagnostics;\n",
    "\n",
    "// Open namespace which defines arithmetic operations\n",
    "open Microsoft.Quantum.Arithmetic;\n",
    "\n",
    "operation QuantumAddition () : Unit {\n",
    "    using ((a, b) = (Qubit[4], Qubit[2])) {\n",
    "        // Initialize the inputs\n",
    "        X(a[0]);\n",
    "        H(a[2]);\n",
    "        T(a[2]);\n",
    "        Message(\"Register a\");\n",
    "        DumpRegister((), a);\n",
    "        // At this point non-zero amplitudes of register a are at the basis states |1❭ and |5❭\n",
    "\n",
    "        X(b[0]);\n",
    "        H(b[1]);\n",
    "        T(b[1]);\n",
    "        Message(\"Register b\");\n",
    "        DumpRegister((), b);\n",
    "        // At this point non-zero amplitudes of register b are at the basis states |1❭ and |3❭\n",
    "\n",
    "        // The library operation AddI will add the first parameter to the second one\n",
    "        AddI(LittleEndian(b), LittleEndian(a));\n",
    "        \n",
    "        // Note that now the registers a and b are entangled, so you can not look at just the state of the register b.\n",
    "        Message(\"Stage of the system after computing a += b\");\n",
    "        DumpMachine(());\n",
    "        // The output of this operation is a bit tricky to decipher, since it represents both registers a and b.\n",
    "        // Register a is the lowest 4 bits of the overall state, and register b is the highest 2 bits.\n",
    "        // Thus, the non-zero amplitude 0.5 of the basis state |18❭ corresponds to the little-endian bit mask 010010,\n",
    "        // which can be split up into registers a and b as 0100 10, \n",
    "        // which in turn is converted to decimal numbers 2 and 1:\n",
    "        // the first number is the basis state of register a, storing the sum of basis states |1❭ and |1❭,\n",
    "        // and the second number is the input state of register b (|1❭).\n",
    "        // The amplitude of this state is a product of the amplitudes of the basis states |1❭ and |1❭ that were added, 1/sqrt(2) * 1/sqrt(2).\n",
    "        // The rest of the states can be traced in a similar way.\n",
    "        \n",
    "        // Make sure the qubits are back to the |0❭ state\n",
    "        ResetAll(a + b);\n",
    "    }\n",
    "}"
   ]
  },
  {
   "cell_type": "code",
   "execution_count": 7,
   "metadata": {
    "scrolled": false
   },
   "outputs": [
    {
     "name": "stdout",
     "output_type": "stream",
     "text": [
      "Register a\n",
      "# wave function for qubits with ids (least to most significant): 0;1;2;3\n",
      "∣ 0❭:\t 0.000000 +  0.000000 i\t == \t                     [ 0.000000 ]                   \n",
      "∣ 1❭:\t 0.707107 +  0.000000 i\t == \t**********           [ 0.500000 ]     --- [  0.00000 rad ]\n",
      "∣ 2❭:\t 0.000000 +  0.000000 i\t == \t                     [ 0.000000 ]                   \n",
      "∣ 3❭:\t 0.000000 +  0.000000 i\t == \t                     [ 0.000000 ]                   \n",
      "∣ 4❭:\t 0.000000 +  0.000000 i\t == \t                     [ 0.000000 ]                   \n",
      "∣ 5❭:\t 0.500000 +  0.500000 i\t == \t**********           [ 0.500000 ]      /  [  0.78540 rad ]\n",
      "∣ 6❭:\t 0.000000 +  0.000000 i\t == \t                     [ 0.000000 ]                   \n",
      "∣ 7❭:\t 0.000000 +  0.000000 i\t == \t                     [ 0.000000 ]                   \n",
      "∣ 8❭:\t 0.000000 +  0.000000 i\t == \t                     [ 0.000000 ]                   \n",
      "∣ 9❭:\t 0.000000 +  0.000000 i\t == \t                     [ 0.000000 ]                   \n",
      "∣10❭:\t 0.000000 +  0.000000 i\t == \t                     [ 0.000000 ]                   \n",
      "∣11❭:\t 0.000000 +  0.000000 i\t == \t                     [ 0.000000 ]                   \n",
      "∣12❭:\t 0.000000 +  0.000000 i\t == \t                     [ 0.000000 ]                   \n",
      "∣13❭:\t 0.000000 +  0.000000 i\t == \t                     [ 0.000000 ]                   \n",
      "∣14❭:\t 0.000000 +  0.000000 i\t == \t                     [ 0.000000 ]                   \n",
      "∣15❭:\t 0.000000 +  0.000000 i\t == \t                     [ 0.000000 ]                   \n",
      "Register b\n",
      "# wave function for qubits with ids (least to most significant): 4;5\n",
      "∣0❭:\t 0.000000 +  0.000000 i\t == \t                     [ 0.000000 ]                   \n",
      "∣1❭:\t 0.500000 +  0.500000 i\t == \t**********           [ 0.500000 ]      /  [  0.78540 rad ]\n",
      "∣2❭:\t 0.000000 +  0.000000 i\t == \t                     [ 0.000000 ]                   \n",
      "∣3❭:\t 0.000000 +  0.707107 i\t == \t***********          [ 0.500000 ]    ↑    [  1.57080 rad ]\n",
      "Stage of the system after computing a += b\n",
      "# wave function for qubits with ids (least to most significant): 0;1;2;3;4;5\n",
      "∣ 0❭:\t 0.000000 +  0.000000 i\t == \t                     [ 0.000000 ]                   \n",
      "∣ 1❭:\t 0.000000 +  0.000000 i\t == \t                     [ 0.000000 ]                   \n",
      "∣ 2❭:\t 0.000000 +  0.000000 i\t == \t                     [ 0.000000 ]                   \n",
      "∣ 3❭:\t 0.000000 +  0.000000 i\t == \t                     [ 0.000000 ]                   \n",
      "∣ 4❭:\t 0.000000 +  0.000000 i\t == \t                     [ 0.000000 ]                   \n",
      "∣ 5❭:\t 0.000000 +  0.000000 i\t == \t                     [ 0.000000 ]                   \n",
      "∣ 6❭:\t 0.000000 +  0.000000 i\t == \t                     [ 0.000000 ]                   \n",
      "∣ 7❭:\t 0.000000 +  0.000000 i\t == \t                     [ 0.000000 ]                   \n",
      "∣ 8❭:\t 0.000000 +  0.000000 i\t == \t                     [ 0.000000 ]                   \n",
      "∣ 9❭:\t 0.000000 +  0.000000 i\t == \t                     [ 0.000000 ]                   \n",
      "∣10❭:\t 0.000000 +  0.000000 i\t == \t                     [ 0.000000 ]                   \n",
      "∣11❭:\t 0.000000 +  0.000000 i\t == \t                     [ 0.000000 ]                   \n",
      "∣12❭:\t 0.000000 +  0.000000 i\t == \t                     [ 0.000000 ]                   \n",
      "∣13❭:\t 0.000000 +  0.000000 i\t == \t                     [ 0.000000 ]                   \n",
      "∣14❭:\t 0.000000 +  0.000000 i\t == \t                     [ 0.000000 ]                   \n",
      "∣15❭:\t 0.000000 +  0.000000 i\t == \t                     [ 0.000000 ]                   \n",
      "∣16❭:\t 0.000000 +  0.000000 i\t == \t                     [ 0.000000 ]                   \n",
      "∣17❭:\t 0.000000 +  0.000000 i\t == \t                     [ 0.000000 ]                   \n",
      "∣18❭:\t 0.500000 +  0.000000 i\t == \t******               [ 0.250000 ]     --- [  0.00000 rad ]\n",
      "∣19❭:\t 0.000000 +  0.000000 i\t == \t                     [ 0.000000 ]                   \n",
      "∣20❭:\t 0.000000 +  0.000000 i\t == \t                     [ 0.000000 ]                   \n",
      "∣21❭:\t 0.000000 +  0.000000 i\t == \t                     [ 0.000000 ]                   \n",
      "∣22❭:\t 0.353553 +  0.353553 i\t == \t******               [ 0.250000 ]      /  [  0.78540 rad ]\n",
      "∣23❭:\t 0.000000 +  0.000000 i\t == \t                     [ 0.000000 ]                   \n",
      "∣24❭:\t 0.000000 +  0.000000 i\t == \t                     [ 0.000000 ]                   \n",
      "∣25❭:\t 0.000000 +  0.000000 i\t == \t                     [ 0.000000 ]                   \n",
      "∣26❭:\t 0.000000 +  0.000000 i\t == \t                     [ 0.000000 ]                   \n",
      "∣27❭:\t 0.000000 +  0.000000 i\t == \t                     [ 0.000000 ]                   \n",
      "∣28❭:\t 0.000000 +  0.000000 i\t == \t                     [ 0.000000 ]                   \n",
      "∣29❭:\t 0.000000 +  0.000000 i\t == \t                     [ 0.000000 ]                   \n",
      "∣30❭:\t 0.000000 +  0.000000 i\t == \t                     [ 0.000000 ]                   \n",
      "∣31❭:\t 0.000000 +  0.000000 i\t == \t                     [ 0.000000 ]                   \n",
      "∣32❭:\t 0.000000 +  0.000000 i\t == \t                     [ 0.000000 ]                   \n",
      "∣33❭:\t 0.000000 +  0.000000 i\t == \t                     [ 0.000000 ]                   \n",
      "∣34❭:\t 0.000000 +  0.000000 i\t == \t                     [ 0.000000 ]                   \n",
      "∣35❭:\t 0.000000 +  0.000000 i\t == \t                     [ 0.000000 ]                   \n",
      "∣36❭:\t 0.000000 +  0.000000 i\t == \t                     [ 0.000000 ]                   \n",
      "∣37❭:\t 0.000000 +  0.000000 i\t == \t                     [ 0.000000 ]                   \n",
      "∣38❭:\t 0.000000 +  0.000000 i\t == \t                     [ 0.000000 ]                   \n",
      "∣39❭:\t 0.000000 +  0.000000 i\t == \t                     [ 0.000000 ]                   \n",
      "∣40❭:\t 0.000000 +  0.000000 i\t == \t                     [ 0.000000 ]                   \n",
      "∣41❭:\t 0.000000 +  0.000000 i\t == \t                     [ 0.000000 ]                   \n",
      "∣42❭:\t 0.000000 +  0.000000 i\t == \t                     [ 0.000000 ]                   \n",
      "∣43❭:\t 0.000000 +  0.000000 i\t == \t                     [ 0.000000 ]                   \n",
      "∣44❭:\t 0.000000 +  0.000000 i\t == \t                     [ 0.000000 ]                   \n",
      "∣45❭:\t 0.000000 +  0.000000 i\t == \t                     [ 0.000000 ]                   \n",
      "∣46❭:\t 0.000000 +  0.000000 i\t == \t                     [ 0.000000 ]                   \n",
      "∣47❭:\t 0.000000 +  0.000000 i\t == \t                     [ 0.000000 ]                   \n",
      "∣48❭:\t 0.000000 +  0.000000 i\t == \t                     [ 0.000000 ]                   \n",
      "∣49❭:\t 0.000000 +  0.000000 i\t == \t                     [ 0.000000 ]                   \n",
      "∣50❭:\t 0.000000 +  0.000000 i\t == \t                     [ 0.000000 ]                   \n",
      "∣51❭:\t 0.000000 +  0.000000 i\t == \t                     [ 0.000000 ]                   \n",
      "∣52❭:\t 0.353553 +  0.353553 i\t == \t******               [ 0.250000 ]      /  [  0.78540 rad ]\n",
      "∣53❭:\t 0.000000 +  0.000000 i\t == \t                     [ 0.000000 ]                   \n",
      "∣54❭:\t 0.000000 +  0.000000 i\t == \t                     [ 0.000000 ]                   \n",
      "∣55❭:\t 0.000000 +  0.000000 i\t == \t                     [ 0.000000 ]                   \n",
      "∣56❭:\t 0.000000 +  0.500000 i\t == \t******               [ 0.250000 ]    ↑    [  1.57080 rad ]\n",
      "∣57❭:\t 0.000000 +  0.000000 i\t == \t                     [ 0.000000 ]                   \n",
      "∣58❭:\t 0.000000 +  0.000000 i\t == \t                     [ 0.000000 ]                   \n",
      "∣59❭:\t 0.000000 +  0.000000 i\t == \t                     [ 0.000000 ]                   \n",
      "∣60❭:\t 0.000000 +  0.000000 i\t == \t                     [ 0.000000 ]                   \n",
      "∣61❭:\t 0.000000 +  0.000000 i\t == \t                     [ 0.000000 ]                   \n",
      "∣62❭:\t 0.000000 +  0.000000 i\t == \t                     [ 0.000000 ]                   \n",
      "∣63❭:\t 0.000000 +  0.000000 i\t == \t                     [ 0.000000 ]                   \n"
     ]
    },
    {
     "data": {
      "application/json": "{\"@type\":\"tuple\"}",
      "text/plain": [
       "()"
      ]
     },
     "execution_count": 7,
     "metadata": {},
     "output_type": "execute_result"
    }
   ],
   "source": [
    "%simulate QuantumAddition"
   ]
  },
  {
   "cell_type": "markdown",
   "metadata": {},
   "source": [
    "### Example 5-3: Some interesting arithmetic"
   ]
  },
  {
   "cell_type": "code",
   "execution_count": 8,
   "metadata": {},
   "outputs": [
    {
     "data": {
      "application/json": "[\"AddBSquared\"]",
      "text/html": [
       "<ul><li>AddBSquared</li></ul>"
      ],
      "text/plain": [
       "AddBSquared"
      ]
     },
     "execution_count": 8,
     "metadata": {},
     "output_type": "execute_result"
    }
   ],
   "source": [
    "// Example 5-3: Some interesting arithmetic\n",
    "\n",
    "open Microsoft.Quantum.Diagnostics;\n",
    "open Microsoft.Quantum.Arithmetic;\n",
    "\n",
    "operation AddBSquared () : Unit {\n",
    "    using ((a, b) = (Qubit[4], Qubit[2])) {\n",
    "        // Initialize the inputs\n",
    "        X(a[0]);\n",
    "        H(a[2]);\n",
    "        T(a[2]);\n",
    "        Message(\"Register a\");\n",
    "        DumpRegister((), a);\n",
    "        // At this point non-zero amplitudes of register a are at the basis states |1❭ and |5❭\n",
    "\n",
    "        X(b[0]);\n",
    "        H(b[1]);\n",
    "        T(b[1]);\n",
    "        Message(\"Register b\");\n",
    "        DumpRegister((), b);\n",
    "        // At this point non-zero amplitudes of register b are at the basis states |1❭ and |3❭\n",
    "\n",
    "        // Allocate extra qubits to hold the value of b² temporarily;\n",
    "        // note that the register has to have twice the number of qubits in register b.\n",
    "        using (anc = Qubit[4]) {\n",
    "            // Compute anc = b * b\n",
    "            SquareI(LittleEndian(b), LittleEndian(anc));\n",
    "            \n",
    "            // Compute a += anc\n",
    "            AddI(LittleEndian(anc), LittleEndian(a));\n",
    "            \n",
    "            // Uncompute the extra qubits, so that they can be released\n",
    "            Adjoint SquareI(LittleEndian(b), LittleEndian(anc));\n",
    "        }\n",
    "\n",
    "        // Note that now the registers a and b are entangled, so you can not look at just the state of the register b.\n",
    "        Message(\"Stage of the system after computing a += b * b\");\n",
    "        DumpMachine(());\n",
    "        // The output of this operation can be deciphered in a same way as the previous one:\n",
    "        // basis states |18❭ and |22❭ remain unchanged, since they correspond to the number 1 written in register b;\n",
    "        // basis state |58❭ corresponds to little-endian binary 010111, which represents b = 3 and a + b * b = 1 + 3² = 10,\n",
    "        // and basis state |62❭ is binary 011111, which is b = 3 and a + b * b = 5 + 3² = 14. \n",
    "        \n",
    "        // Make sure the qubits are back to the |0❭ state\n",
    "        ResetAll(a + b);\n",
    "    }\n",
    "}"
   ]
  },
  {
   "cell_type": "code",
   "execution_count": 9,
   "metadata": {
    "scrolled": false
   },
   "outputs": [
    {
     "name": "stdout",
     "output_type": "stream",
     "text": [
      "Register a\n",
      "# wave function for qubits with ids (least to most significant): 0;1;2;3\n",
      "∣ 0❭:\t 0.000000 +  0.000000 i\t == \t                     [ 0.000000 ]                   \n",
      "∣ 1❭:\t 0.707107 +  0.000000 i\t == \t**********           [ 0.500000 ]     --- [  0.00000 rad ]\n",
      "∣ 2❭:\t 0.000000 +  0.000000 i\t == \t                     [ 0.000000 ]                   \n",
      "∣ 3❭:\t 0.000000 +  0.000000 i\t == \t                     [ 0.000000 ]                   \n",
      "∣ 4❭:\t 0.000000 +  0.000000 i\t == \t                     [ 0.000000 ]                   \n",
      "∣ 5❭:\t 0.500000 +  0.500000 i\t == \t**********           [ 0.500000 ]      /  [  0.78540 rad ]\n",
      "∣ 6❭:\t 0.000000 +  0.000000 i\t == \t                     [ 0.000000 ]                   \n",
      "∣ 7❭:\t 0.000000 +  0.000000 i\t == \t                     [ 0.000000 ]                   \n",
      "∣ 8❭:\t 0.000000 +  0.000000 i\t == \t                     [ 0.000000 ]                   \n",
      "∣ 9❭:\t 0.000000 +  0.000000 i\t == \t                     [ 0.000000 ]                   \n",
      "∣10❭:\t 0.000000 +  0.000000 i\t == \t                     [ 0.000000 ]                   \n",
      "∣11❭:\t 0.000000 +  0.000000 i\t == \t                     [ 0.000000 ]                   \n",
      "∣12❭:\t 0.000000 +  0.000000 i\t == \t                     [ 0.000000 ]                   \n",
      "∣13❭:\t 0.000000 +  0.000000 i\t == \t                     [ 0.000000 ]                   \n",
      "∣14❭:\t 0.000000 +  0.000000 i\t == \t                     [ 0.000000 ]                   \n",
      "∣15❭:\t 0.000000 +  0.000000 i\t == \t                     [ 0.000000 ]                   \n",
      "Register b\n",
      "# wave function for qubits with ids (least to most significant): 4;5\n",
      "∣0❭:\t 0.000000 +  0.000000 i\t == \t                     [ 0.000000 ]                   \n",
      "∣1❭:\t 0.500000 +  0.500000 i\t == \t**********           [ 0.500000 ]      /  [  0.78540 rad ]\n",
      "∣2❭:\t 0.000000 +  0.000000 i\t == \t                     [ 0.000000 ]                   \n",
      "∣3❭:\t 0.000000 +  0.707107 i\t == \t***********          [ 0.500000 ]    ↑    [  1.57080 rad ]\n",
      "Stage of the system after computing a += b * b\n",
      "# wave function for qubits with ids (least to most significant): 0;1;2;3;4;5\n",
      "∣ 0❭:\t 0.000000 +  0.000000 i\t == \t                     [ 0.000000 ]                   \n",
      "∣ 1❭:\t 0.000000 +  0.000000 i\t == \t                     [ 0.000000 ]                   \n",
      "∣ 2❭:\t 0.000000 +  0.000000 i\t == \t                     [ 0.000000 ]                   \n",
      "∣ 3❭:\t 0.000000 +  0.000000 i\t == \t                     [ 0.000000 ]                   \n",
      "∣ 4❭:\t 0.000000 +  0.000000 i\t == \t                     [ 0.000000 ]                   \n",
      "∣ 5❭:\t 0.000000 +  0.000000 i\t == \t                     [ 0.000000 ]                   \n",
      "∣ 6❭:\t 0.000000 +  0.000000 i\t == \t                     [ 0.000000 ]                   \n",
      "∣ 7❭:\t 0.000000 +  0.000000 i\t == \t                     [ 0.000000 ]                   \n",
      "∣ 8❭:\t 0.000000 +  0.000000 i\t == \t                     [ 0.000000 ]                   \n",
      "∣ 9❭:\t 0.000000 +  0.000000 i\t == \t                     [ 0.000000 ]                   \n",
      "∣10❭:\t 0.000000 +  0.000000 i\t == \t                     [ 0.000000 ]                   \n",
      "∣11❭:\t 0.000000 +  0.000000 i\t == \t                     [ 0.000000 ]                   \n",
      "∣12❭:\t 0.000000 +  0.000000 i\t == \t                     [ 0.000000 ]                   \n",
      "∣13❭:\t 0.000000 +  0.000000 i\t == \t                     [ 0.000000 ]                   \n",
      "∣14❭:\t 0.000000 +  0.000000 i\t == \t                     [ 0.000000 ]                   \n",
      "∣15❭:\t 0.000000 +  0.000000 i\t == \t                     [ 0.000000 ]                   \n",
      "∣16❭:\t 0.000000 +  0.000000 i\t == \t                     [ 0.000000 ]                   \n",
      "∣17❭:\t 0.000000 +  0.000000 i\t == \t                     [ 0.000000 ]                   \n",
      "∣18❭:\t 0.500000 +  0.000000 i\t == \t******               [ 0.250000 ]     --- [  0.00000 rad ]\n",
      "∣19❭:\t 0.000000 +  0.000000 i\t == \t                     [ 0.000000 ]                   \n",
      "∣20❭:\t 0.000000 +  0.000000 i\t == \t                     [ 0.000000 ]                   \n",
      "∣21❭:\t 0.000000 +  0.000000 i\t == \t                     [ 0.000000 ]                   \n",
      "∣22❭:\t 0.353553 +  0.353553 i\t == \t******               [ 0.250000 ]      /  [  0.78540 rad ]\n",
      "∣23❭:\t 0.000000 +  0.000000 i\t == \t                     [ 0.000000 ]                   \n",
      "∣24❭:\t 0.000000 +  0.000000 i\t == \t                     [ 0.000000 ]                   \n",
      "∣25❭:\t 0.000000 +  0.000000 i\t == \t                     [ 0.000000 ]                   \n",
      "∣26❭:\t 0.000000 +  0.000000 i\t == \t                     [ 0.000000 ]                   \n",
      "∣27❭:\t 0.000000 +  0.000000 i\t == \t                     [ 0.000000 ]                   \n",
      "∣28❭:\t 0.000000 +  0.000000 i\t == \t                     [ 0.000000 ]                   \n",
      "∣29❭:\t 0.000000 +  0.000000 i\t == \t                     [ 0.000000 ]                   \n",
      "∣30❭:\t 0.000000 +  0.000000 i\t == \t                     [ 0.000000 ]                   \n",
      "∣31❭:\t 0.000000 +  0.000000 i\t == \t                     [ 0.000000 ]                   \n",
      "∣32❭:\t 0.000000 +  0.000000 i\t == \t                     [ 0.000000 ]                   \n",
      "∣33❭:\t 0.000000 +  0.000000 i\t == \t                     [ 0.000000 ]                   \n",
      "∣34❭:\t 0.000000 +  0.000000 i\t == \t                     [ 0.000000 ]                   \n",
      "∣35❭:\t 0.000000 +  0.000000 i\t == \t                     [ 0.000000 ]                   \n",
      "∣36❭:\t 0.000000 +  0.000000 i\t == \t                     [ 0.000000 ]                   \n",
      "∣37❭:\t 0.000000 +  0.000000 i\t == \t                     [ 0.000000 ]                   \n",
      "∣38❭:\t 0.000000 +  0.000000 i\t == \t                     [ 0.000000 ]                   \n",
      "∣39❭:\t 0.000000 +  0.000000 i\t == \t                     [ 0.000000 ]                   \n",
      "∣40❭:\t 0.000000 +  0.000000 i\t == \t                     [ 0.000000 ]                   \n",
      "∣41❭:\t 0.000000 +  0.000000 i\t == \t                     [ 0.000000 ]                   \n",
      "∣42❭:\t 0.000000 +  0.000000 i\t == \t                     [ 0.000000 ]                   \n",
      "∣43❭:\t 0.000000 +  0.000000 i\t == \t                     [ 0.000000 ]                   \n",
      "∣44❭:\t 0.000000 +  0.000000 i\t == \t                     [ 0.000000 ]                   \n",
      "∣45❭:\t 0.000000 +  0.000000 i\t == \t                     [ 0.000000 ]                   \n",
      "∣46❭:\t 0.000000 +  0.000000 i\t == \t                     [ 0.000000 ]                   \n",
      "∣47❭:\t 0.000000 +  0.000000 i\t == \t                     [ 0.000000 ]                   \n",
      "∣48❭:\t 0.000000 +  0.000000 i\t == \t                     [ 0.000000 ]                   \n",
      "∣49❭:\t 0.000000 +  0.000000 i\t == \t                     [ 0.000000 ]                   \n",
      "∣50❭:\t 0.000000 +  0.000000 i\t == \t                     [ 0.000000 ]                   \n",
      "∣51❭:\t 0.000000 +  0.000000 i\t == \t                     [ 0.000000 ]                   \n",
      "∣52❭:\t 0.000000 +  0.000000 i\t == \t                     [ 0.000000 ]                   \n",
      "∣53❭:\t 0.000000 +  0.000000 i\t == \t                     [ 0.000000 ]                   \n",
      "∣54❭:\t 0.000000 +  0.000000 i\t == \t                     [ 0.000000 ]                   \n",
      "∣55❭:\t 0.000000 +  0.000000 i\t == \t                     [ 0.000000 ]                   \n",
      "∣56❭:\t 0.000000 +  0.000000 i\t == \t                     [ 0.000000 ]                   \n",
      "∣57❭:\t 0.000000 +  0.000000 i\t == \t                     [ 0.000000 ]                   \n",
      "∣58❭:\t 0.353553 +  0.353553 i\t == \t******               [ 0.250000 ]      /  [  0.78540 rad ]\n",
      "∣59❭:\t 0.000000 +  0.000000 i\t == \t                     [ 0.000000 ]                   \n",
      "∣60❭:\t 0.000000 +  0.000000 i\t == \t                     [ 0.000000 ]                   \n",
      "∣61❭:\t 0.000000 +  0.000000 i\t == \t                     [ 0.000000 ]                   \n",
      "∣62❭:\t 0.000000 +  0.500000 i\t == \t******               [ 0.250000 ]    ↑    [  1.57080 rad ]\n",
      "∣63❭:\t 0.000000 +  0.000000 i\t == \t                     [ 0.000000 ]                   \n"
     ]
    },
    {
     "data": {
      "application/json": "{\"@type\":\"tuple\"}",
      "text/plain": [
       "()"
      ]
     },
     "execution_count": 9,
     "metadata": {},
     "output_type": "execute_result"
    }
   ],
   "source": [
    "%simulate AddBSquared"
   ]
  },
  {
   "cell_type": "markdown",
   "metadata": {},
   "source": [
    "### Example 5-4: Quantum-conditional execution"
   ]
  },
  {
   "cell_type": "code",
   "execution_count": 10,
   "metadata": {},
   "outputs": [
    {
     "data": {
      "application/json": "[\"QuantumConditionalExecution\"]",
      "text/html": [
       "<ul><li>QuantumConditionalExecution</li></ul>"
      ],
      "text/plain": [
       "QuantumConditionalExecution"
      ]
     },
     "execution_count": 10,
     "metadata": {},
     "output_type": "execute_result"
    }
   ],
   "source": [
    "// Example 5-4: Quantum-conditional execution\n",
    "\n",
    "open Microsoft.Quantum.Diagnostics;\n",
    "open Microsoft.Quantum.Arithmetic;\n",
    "\n",
    "operation QuantumConditionalExecution () : Unit {\n",
    "    using ((a, b) = (Qubit[3], Qubit[3])) {\n",
    "        // Initialize the inputs\n",
    "        X(a[0]);\n",
    "        H(a[2]);\n",
    "        Message(\"Register a\");\n",
    "        DumpRegister((), a);\n",
    "        // At this point non-zero amplitudes of register a are at the basis states |1❭ and |5❭\n",
    "\n",
    "        X(b[0]);\n",
    "        H(b[1]);\n",
    "        T(b[1]);\n",
    "        Message(\"Register b\");\n",
    "        DumpRegister((), b);\n",
    "        // At this point non-zero amplitudes of register b are at the basis states |1❭ and |3❭\n",
    "\n",
    "        // a -= 3\n",
    "        IncrementByInteger(-3, LittleEndian(a));\n",
    "        \n",
    "        // if (a < 0) then b++;\n",
    "        (Controlled IncrementByInteger)([a[2]], (1, LittleEndian(b)));\n",
    "\n",
    "        // a += 3\n",
    "        IncrementByInteger(3, LittleEndian(a));\n",
    "        \n",
    "        // Note that now the registers a and b are entangled, so you can not look at just the state of the register b.\n",
    "        Message(\"Stage of the system after the computation\");\n",
    "        DumpMachine(());\n",
    "        \n",
    "        // Make sure the qubits are back to the |0❭ state\n",
    "        ResetAll(a + b);\n",
    "    }\n",
    "}"
   ]
  },
  {
   "cell_type": "code",
   "execution_count": 11,
   "metadata": {
    "scrolled": false
   },
   "outputs": [
    {
     "name": "stdout",
     "output_type": "stream",
     "text": [
      "Register a\n",
      "# wave function for qubits with ids (least to most significant): 0;1;2\n",
      "∣0❭:\t 0.000000 +  0.000000 i\t == \t                     [ 0.000000 ]                   \n",
      "∣1❭:\t 0.707107 +  0.000000 i\t == \t***********          [ 0.500000 ]     --- [  0.00000 rad ]\n",
      "∣2❭:\t 0.000000 +  0.000000 i\t == \t                     [ 0.000000 ]                   \n",
      "∣3❭:\t 0.000000 +  0.000000 i\t == \t                     [ 0.000000 ]                   \n",
      "∣4❭:\t 0.000000 +  0.000000 i\t == \t                     [ 0.000000 ]                   \n",
      "∣5❭:\t 0.707107 +  0.000000 i\t == \t***********          [ 0.500000 ]     --- [  0.00000 rad ]\n",
      "∣6❭:\t 0.000000 +  0.000000 i\t == \t                     [ 0.000000 ]                   \n",
      "∣7❭:\t 0.000000 +  0.000000 i\t == \t                     [ 0.000000 ]                   \n",
      "Register b\n",
      "# wave function for qubits with ids (least to most significant): 3;4;5\n",
      "∣0❭:\t 0.000000 +  0.000000 i\t == \t                     [ 0.000000 ]                   \n",
      "∣1❭:\t 0.707107 +  0.000000 i\t == \t**********           [ 0.500000 ]     --- [  0.00000 rad ]\n",
      "∣2❭:\t 0.000000 +  0.000000 i\t == \t                     [ 0.000000 ]                   \n",
      "∣3❭:\t 0.500000 +  0.500000 i\t == \t**********           [ 0.500000 ]      /  [  0.78540 rad ]\n",
      "∣4❭:\t 0.000000 +  0.000000 i\t == \t                     [ 0.000000 ]                   \n",
      "∣5❭:\t 0.000000 +  0.000000 i\t == \t                     [ 0.000000 ]                   \n",
      "∣6❭:\t 0.000000 +  0.000000 i\t == \t                     [ 0.000000 ]                   \n",
      "∣7❭:\t 0.000000 +  0.000000 i\t == \t                     [ 0.000000 ]                   \n",
      "Stage of the system after the computation\n",
      "# wave function for qubits with ids (least to most significant): 0;1;2;3;4;5\n",
      "∣ 0❭:\t-0.000000 +  0.000000 i\t == \t*                    [ 0.000000 ]    ↑    [  1.69105 rad ]\n",
      "∣ 1❭:\t 0.000000 + -0.000000 i\t == \t*                    [ 0.000000 ]     --- [ -0.16446 rad ]\n",
      "∣ 2❭:\t-0.000000 +  0.000000 i\t == \t*                    [ 0.000000 ] +\\      [  2.75926 rad ]\n",
      "∣ 3❭:\t-0.000000 + -0.000000 i\t == \t*                    [ 0.000000 ]  /      [ -2.50459 rad ]\n",
      "∣ 4❭:\t-0.000000 + -0.000000 i\t == \t*                    [ 0.000000 ]  /      [ -2.49196 rad ]\n",
      "∣ 5❭:\t 0.000000 +  0.000000 i\t == \t*                    [ 0.000000 ]     +/  [  1.32582 rad ]\n",
      "∣ 6❭:\t-0.000000 +  0.000000 i\t == \t*                    [ 0.000000 ]  \\      [  2.17337 rad ]\n",
      "∣ 7❭:\t 0.000000 +  0.000000 i\t == \t*                    [ 0.000000 ]      /  [  0.61044 rad ]\n",
      "∣ 8❭:\t-0.000000 +  0.000000 i\t == \t*                    [ 0.000000 ]  \\-     [  2.04478 rad ]\n",
      "∣ 9❭:\t-0.000000 +  0.000000 i\t == \t*                    [ 0.000000 ] ---     [  2.96940 rad ]\n",
      "∣10❭:\t 0.000000 +  0.000000 i\t == \t*                    [ 0.000000 ]      /  [  0.90511 rad ]\n",
      "∣11❭:\t-0.000000 +  0.000000 i\t == \t*                    [ 0.000000 ]  \\      [  2.24554 rad ]\n",
      "∣12❭:\t-0.000000 + -0.000000 i\t == \t*                    [ 0.000000 ]  /+     [ -1.80870 rad ]\n",
      "∣13❭:\t 0.500000 + -0.000000 i\t == \t******               [ 0.250000 ]     --- [ -0.00000 rad ]\n",
      "∣14❭:\t-0.000000 + -0.000000 i\t == \t*                    [ 0.000000 ]  /+     [ -1.77856 rad ]\n",
      "∣15❭:\t 0.000000 + -0.000000 i\t == \t*                    [ 0.000000 ]    ↓    [ -1.57080 rad ]\n",
      "∣16❭:\t-0.000000 + -0.000000 i\t == \t*                    [ 0.000000 ]  /+     [ -1.90809 rad ]\n",
      "∣17❭:\t 0.500000 + -0.000000 i\t == \t******               [ 0.250000 ]     --- [ -0.00000 rad ]\n",
      "∣18❭:\t-0.000000 + -0.000000 i\t == \t*                    [ 0.000000 ]  /+     [ -1.86705 rad ]\n",
      "∣19❭:\t-0.000000 + -0.000000 i\t == \t*                    [ 0.000000 ] -/      [ -2.67795 rad ]\n",
      "∣20❭:\t-0.000000 +  0.000000 i\t == \t*                    [ 0.000000 ]    ↑    [  1.62649 rad ]\n",
      "∣21❭:\t-0.000000 +  0.000000 i\t == \t*                    [ 0.000000 ] ---     [  3.14159 rad ]\n",
      "∣22❭:\t 0.000000 +  0.000000 i\t == \t*                    [ 0.000000 ]     +/  [  1.36890 rad ]\n",
      "∣23❭:\t-0.000000 +  0.000000 i\t == \t*                    [ 0.000000 ]  \\      [  2.42276 rad ]\n",
      "∣24❭:\t-0.000000 +  0.000000 i\t == \t*                    [ 0.000000 ] +\\      [  2.68595 rad ]\n",
      "∣25❭:\t-0.000000 +  0.000000 i\t == \t*                    [ 0.000000 ] ---     [  3.14159 rad ]\n",
      "∣26❭:\t-0.000000 +  0.000000 i\t == \t*                    [ 0.000000 ]  \\      [  2.54974 rad ]\n",
      "∣27❭:\t-0.000000 +  0.000000 i\t == \t*                    [ 0.000000 ] ---     [  2.95328 rad ]\n",
      "∣28❭:\t 0.000000 + -0.000000 i\t == \t*                    [ 0.000000 ]     -\\  [ -1.23721 rad ]\n",
      "∣29❭:\t 0.353553 +  0.353553 i\t == \t******               [ 0.250000 ]      /  [  0.78540 rad ]\n",
      "∣30❭:\t 0.000000 + -0.000000 i\t == \t*                    [ 0.000000 ]    ↓    [ -1.46205 rad ]\n",
      "∣31❭:\t 0.000000 + -0.000000 i\t == \t*                    [ 0.000000 ]     -\\  [ -1.05237 rad ]\n",
      "∣32❭:\t 0.000000 + -0.000000 i\t == \t*                    [ 0.000000 ]     -\\  [ -1.00664 rad ]\n",
      "∣33❭:\t 0.353553 +  0.353553 i\t == \t******               [ 0.250000 ]      /  [  0.78540 rad ]\n",
      "∣34❭:\t 0.000000 + -0.000000 i\t == \t*                    [ 0.000000 ]      \\  [ -0.59032 rad ]\n",
      "∣35❭:\t 0.000000 + -0.000000 i\t == \t*                    [ 0.000000 ]      \\  [ -0.80812 rad ]\n",
      "∣36❭:\t-0.000000 +  0.000000 i\t == \t*                    [ 0.000000 ]  \\-     [  2.10608 rad ]\n",
      "∣37❭:\t-0.000000 + -0.000000 i\t == \t*                    [ 0.000000 ]     --- [ -2.96541 rad ]\n",
      "∣38❭:\t-0.000000 +  0.000000 i\t == \t*                    [ 0.000000 ]  \\      [  2.37894 rad ]\n",
      "∣39❭:\t-0.000000 + -0.000000 i\t == \t*                    [ 0.000000 ]     --- [ -3.08298 rad ]\n",
      "∣40❭:\t 0.000000 +  0.000000 i\t == \t*                    [ 0.000000 ]      /- [  0.47734 rad ]\n",
      "∣41❭:\t-0.000000 +  0.000000 i\t == \t*                    [ 0.000000 ] +\\      [  2.78176 rad ]\n",
      "∣42❭:\t 0.000000 + -0.000000 i\t == \t*                    [ 0.000000 ]      \\+ [ -0.58158 rad ]\n",
      "∣43❭:\t-0.000000 +  0.000000 i\t == \t*                    [ 0.000000 ]    ↑    [  1.72689 rad ]\n",
      "∣44❭:\t 0.000000 + -0.000000 i\t == \t*                    [ 0.000000 ]     -\\  [ -1.07227 rad ]\n",
      "∣45❭:\t 0.000000 + -0.000000 i\t == \t*                    [ 0.000000 ]      \\+ [ -0.46365 rad ]\n",
      "∣46❭:\t-0.000000 + -0.000000 i\t == \t*                    [ 0.000000 ]  /      [ -2.45650 rad ]\n",
      "∣47❭:\t-0.000000 + -0.000000 i\t == \t*                    [ 0.000000 ]  /+     [ -1.77275 rad ]\n",
      "∣48❭:\t-0.000000 + -0.000000 i\t == \t*                    [ 0.000000 ] -/      [ -2.83110 rad ]\n",
      "∣49❭:\t 0.000000 + -0.000000 i\t == \t*                    [ 0.000000 ]      \\+ [ -0.53542 rad ]\n",
      "∣50❭:\t 0.000000 + -0.000000 i\t == \t*                    [ 0.000000 ]      \\+ [ -0.34377 rad ]\n",
      "∣51❭:\t-0.000000 +  0.000000 i\t == \t*                    [ 0.000000 ] ---     [  3.09723 rad ]\n",
      "∣52❭:\t 0.000000 +  0.000000 i\t == \t*                    [ 0.000000 ]    ↑    [  1.42449 rad ]\n",
      "∣53❭:\t 0.000000 +  0.000000 i\t == \t*                    [ 0.000000 ]      /- [  0.24498 rad ]\n",
      "∣54❭:\t 0.000000 +  0.000000 i\t == \t*                    [ 0.000000 ]      /- [  0.52011 rad ]\n",
      "∣55❭:\t 0.000000 +  0.000000 i\t == \t*                    [ 0.000000 ]    ↑    [  1.53805 rad ]\n",
      "∣56❭:\t-0.000000 + -0.000000 i\t == \t*                    [ 0.000000 ]     --- [ -2.99974 rad ]\n",
      "∣57❭:\t 0.000000 +  0.000000 i\t == \t*                    [ 0.000000 ]     +/  [  1.13173 rad ]\n",
      "∣58❭:\t 0.000000 +  0.000000 i\t == \t*                    [ 0.000000 ]     +/  [  1.11188 rad ]\n",
      "∣59❭:\t-0.000000 +  0.000000 i\t == \t*                    [ 0.000000 ] +\\      [  2.61643 rad ]\n",
      "∣60❭:\t-0.000000 +  0.000000 i\t == \t*                    [ 0.000000 ]    ↑    [  1.61662 rad ]\n",
      "∣61❭:\t 0.000000 + -0.000000 i\t == \t*                    [ 0.000000 ]      \\+ [ -0.46365 rad ]\n",
      "∣62❭:\t-0.000000 +  0.000000 i\t == \t*                    [ 0.000000 ]  \\-     [  2.03788 rad ]\n",
      "∣63❭:\t-0.000000 + -0.000000 i\t == \t*                    [ 0.000000 ] -/      [ -2.79749 rad ]\n"
     ]
    },
    {
     "data": {
      "application/json": "{\"@type\":\"tuple\"}",
      "text/plain": [
       "()"
      ]
     },
     "execution_count": 11,
     "metadata": {},
     "output_type": "execute_result"
    }
   ],
   "source": [
    "%simulate QuantumConditionalExecution"
   ]
  },
  {
   "cell_type": "markdown",
   "metadata": {},
   "source": [
    "### Example 5-5: Phase-encoding the result"
   ]
  },
  {
   "cell_type": "code",
   "execution_count": 12,
   "metadata": {},
   "outputs": [
    {
     "data": {
      "application/json": "[\"PhaseEncoding\"]",
      "text/html": [
       "<ul><li>PhaseEncoding</li></ul>"
      ],
      "text/plain": [
       "PhaseEncoding"
      ]
     },
     "execution_count": 12,
     "metadata": {},
     "output_type": "execute_result"
    }
   ],
   "source": [
    "// Example 5-5: Phase-encoding the result\n",
    "\n",
    "open Microsoft.Quantum.Diagnostics;\n",
    "open Microsoft.Quantum.Arithmetic;\n",
    "\n",
    "operation PhaseEncoding () : Unit {\n",
    "    using ((a, b) = (Qubit[3], Qubit[2])) {\n",
    "        // Initialize the inputs\n",
    "        H(a[0]);\n",
    "        H(a[1]);\n",
    "        Message(\"Register a\");\n",
    "        DumpRegister((), a);\n",
    "        // At this point non-zero amplitudes of register a are at the basis states |0❭, |1❭, |2❭, and |3❭\n",
    "\n",
    "        X(b[0]);\n",
    "        H(b[1]);\n",
    "        Message(\"Register b\");\n",
    "        DumpRegister((), b);\n",
    "        // At this point non-zero amplitudes of register b are at the basis states |1❭ and |3❭\n",
    "\n",
    "        Message(\"Complete state of the system\");\n",
    "        DumpMachine(());\n",
    "\n",
    "        // a -= 3\n",
    "        IncrementByInteger(-3, LittleEndian(a));\n",
    "        \n",
    "        // if (a < 0) and b == 1 then flip the phase\n",
    "        (ControlledOnInt(1, Z))(b, a[2]);\n",
    "\n",
    "        // a += 3\n",
    "        IncrementByInteger(3, LittleEndian(a));\n",
    "        \n",
    "        // Note that now the registers a and b are entangled, so you can not look at just the state of the register b.\n",
    "        Message(\"Stage of the system after the computation\");\n",
    "        DumpMachine(());\n",
    "        \n",
    "        // Make sure the qubits are back to the |0❭ state\n",
    "        ResetAll(a + b);\n",
    "    }\n",
    "}"
   ]
  },
  {
   "cell_type": "code",
   "execution_count": 13,
   "metadata": {
    "scrolled": false
   },
   "outputs": [
    {
     "name": "stdout",
     "output_type": "stream",
     "text": [
      "Register a\n",
      "# wave function for qubits with ids (least to most significant): 0;1;2\n",
      "∣0❭:\t 0.500000 +  0.000000 i\t == \t*****                [ 0.250000 ]     --- [  0.00000 rad ]\n",
      "∣1❭:\t 0.500000 +  0.000000 i\t == \t*****                [ 0.250000 ]     --- [  0.00000 rad ]\n",
      "∣2❭:\t 0.500000 +  0.000000 i\t == \t*****                [ 0.250000 ]     --- [  0.00000 rad ]\n",
      "∣3❭:\t 0.500000 +  0.000000 i\t == \t*****                [ 0.250000 ]     --- [  0.00000 rad ]\n",
      "∣4❭:\t 0.000000 +  0.000000 i\t == \t                     [ 0.000000 ]                   \n",
      "∣5❭:\t 0.000000 +  0.000000 i\t == \t                     [ 0.000000 ]                   \n",
      "∣6❭:\t 0.000000 +  0.000000 i\t == \t                     [ 0.000000 ]                   \n",
      "∣7❭:\t 0.000000 +  0.000000 i\t == \t                     [ 0.000000 ]                   \n",
      "Register b\n",
      "# wave function for qubits with ids (least to most significant): 3;4\n",
      "∣0❭:\t 0.000000 +  0.000000 i\t == \t                     [ 0.000000 ]                   \n",
      "∣1❭:\t 0.707107 +  0.000000 i\t == \t***********          [ 0.500000 ]     --- [  0.00000 rad ]\n",
      "∣2❭:\t 0.000000 +  0.000000 i\t == \t                     [ 0.000000 ]                   \n",
      "∣3❭:\t 0.707107 +  0.000000 i\t == \t***********          [ 0.500000 ]     --- [  0.00000 rad ]\n",
      "Complete state of the system\n",
      "# wave function for qubits with ids (least to most significant): 0;1;2;3;4\n",
      "∣ 0❭:\t 0.000000 +  0.000000 i\t == \t                     [ 0.000000 ]                   \n",
      "∣ 1❭:\t 0.000000 +  0.000000 i\t == \t                     [ 0.000000 ]                   \n",
      "∣ 2❭:\t 0.000000 +  0.000000 i\t == \t                     [ 0.000000 ]                   \n",
      "∣ 3❭:\t 0.000000 +  0.000000 i\t == \t                     [ 0.000000 ]                   \n",
      "∣ 4❭:\t 0.000000 +  0.000000 i\t == \t                     [ 0.000000 ]                   \n",
      "∣ 5❭:\t 0.000000 +  0.000000 i\t == \t                     [ 0.000000 ]                   \n",
      "∣ 6❭:\t 0.000000 +  0.000000 i\t == \t                     [ 0.000000 ]                   \n",
      "∣ 7❭:\t 0.000000 +  0.000000 i\t == \t                     [ 0.000000 ]                   \n",
      "∣ 8❭:\t 0.353553 +  0.000000 i\t == \t***                  [ 0.125000 ]     --- [  0.00000 rad ]\n",
      "∣ 9❭:\t 0.353553 +  0.000000 i\t == \t***                  [ 0.125000 ]     --- [  0.00000 rad ]\n",
      "∣10❭:\t 0.353553 +  0.000000 i\t == \t***                  [ 0.125000 ]     --- [  0.00000 rad ]\n",
      "∣11❭:\t 0.353553 +  0.000000 i\t == \t***                  [ 0.125000 ]     --- [  0.00000 rad ]\n",
      "∣12❭:\t 0.000000 +  0.000000 i\t == \t                     [ 0.000000 ]                   \n",
      "∣13❭:\t 0.000000 +  0.000000 i\t == \t                     [ 0.000000 ]                   \n",
      "∣14❭:\t 0.000000 +  0.000000 i\t == \t                     [ 0.000000 ]                   \n",
      "∣15❭:\t 0.000000 +  0.000000 i\t == \t                     [ 0.000000 ]                   \n",
      "∣16❭:\t 0.000000 +  0.000000 i\t == \t                     [ 0.000000 ]                   \n",
      "∣17❭:\t 0.000000 +  0.000000 i\t == \t                     [ 0.000000 ]                   \n",
      "∣18❭:\t 0.000000 +  0.000000 i\t == \t                     [ 0.000000 ]                   \n",
      "∣19❭:\t 0.000000 +  0.000000 i\t == \t                     [ 0.000000 ]                   \n",
      "∣20❭:\t 0.000000 +  0.000000 i\t == \t                     [ 0.000000 ]                   \n",
      "∣21❭:\t 0.000000 +  0.000000 i\t == \t                     [ 0.000000 ]                   \n",
      "∣22❭:\t 0.000000 +  0.000000 i\t == \t                     [ 0.000000 ]                   \n",
      "∣23❭:\t 0.000000 +  0.000000 i\t == \t                     [ 0.000000 ]                   \n",
      "∣24❭:\t 0.353553 +  0.000000 i\t == \t***                  [ 0.125000 ]     --- [  0.00000 rad ]\n",
      "∣25❭:\t 0.353553 +  0.000000 i\t == \t***                  [ 0.125000 ]     --- [  0.00000 rad ]\n",
      "∣26❭:\t 0.353553 +  0.000000 i\t == \t***                  [ 0.125000 ]     --- [  0.00000 rad ]\n",
      "∣27❭:\t 0.353553 +  0.000000 i\t == \t***                  [ 0.125000 ]     --- [  0.00000 rad ]\n",
      "∣28❭:\t 0.000000 +  0.000000 i\t == \t                     [ 0.000000 ]                   \n",
      "∣29❭:\t 0.000000 +  0.000000 i\t == \t                     [ 0.000000 ]                   \n",
      "∣30❭:\t 0.000000 +  0.000000 i\t == \t                     [ 0.000000 ]                   \n",
      "∣31❭:\t 0.000000 +  0.000000 i\t == \t                     [ 0.000000 ]                   \n",
      "Stage of the system after the computation\n",
      "# wave function for qubits with ids (least to most significant): 0;1;2;3;4\n",
      "∣ 0❭:\t 0.000000 +  0.000000 i\t == \t                     [ 0.000000 ]                   \n",
      "∣ 1❭:\t 0.000000 +  0.000000 i\t == \t                     [ 0.000000 ]                   \n",
      "∣ 2❭:\t 0.000000 +  0.000000 i\t == \t                     [ 0.000000 ]                   \n",
      "∣ 3❭:\t 0.000000 +  0.000000 i\t == \t                     [ 0.000000 ]                   \n",
      "∣ 4❭:\t 0.000000 +  0.000000 i\t == \t                     [ 0.000000 ]                   \n",
      "∣ 5❭:\t 0.000000 +  0.000000 i\t == \t                     [ 0.000000 ]                   \n",
      "∣ 6❭:\t 0.000000 +  0.000000 i\t == \t                     [ 0.000000 ]                   \n",
      "∣ 7❭:\t 0.000000 +  0.000000 i\t == \t                     [ 0.000000 ]                   \n",
      "∣ 8❭:\t-0.353553 +  0.000000 i\t == \t***                  [ 0.125000 ] ---     [  3.14159 rad ]\n",
      "∣ 9❭:\t-0.353553 +  0.000000 i\t == \t***                  [ 0.125000 ] ---     [  3.14159 rad ]\n",
      "∣10❭:\t-0.353553 + -0.000000 i\t == \t***                  [ 0.125000 ]     --- [ -3.14159 rad ]\n",
      "∣11❭:\t 0.353553 + -0.000000 i\t == \t***                  [ 0.125000 ]     --- [ -0.00000 rad ]\n",
      "∣12❭:\t-0.000000 + -0.000000 i\t == \t*                    [ 0.000000 ]     --- [ -2.96418 rad ]\n",
      "∣13❭:\t-0.000000 + -0.000000 i\t == \t*                    [ 0.000000 ]  /+     [ -1.91296 rad ]\n",
      "∣14❭:\t 0.000000 + -0.000000 i\t == \t*                    [ 0.000000 ]    ↓    [ -1.46833 rad ]\n",
      "∣15❭:\t 0.000000 +  0.000000 i\t == \t*                    [ 0.000000 ]     +/  [  1.36525 rad ]\n",
      "∣16❭:\t 0.000000 +  0.000000 i\t == \t                     [ 0.000000 ]                   \n",
      "∣17❭:\t 0.000000 +  0.000000 i\t == \t                     [ 0.000000 ]                   \n",
      "∣18❭:\t 0.000000 +  0.000000 i\t == \t                     [ 0.000000 ]                   \n",
      "∣19❭:\t 0.000000 +  0.000000 i\t == \t                     [ 0.000000 ]                   \n",
      "∣20❭:\t 0.000000 +  0.000000 i\t == \t                     [ 0.000000 ]                   \n",
      "∣21❭:\t 0.000000 +  0.000000 i\t == \t                     [ 0.000000 ]                   \n",
      "∣22❭:\t 0.000000 +  0.000000 i\t == \t                     [ 0.000000 ]                   \n",
      "∣23❭:\t 0.000000 +  0.000000 i\t == \t                     [ 0.000000 ]                   \n",
      "∣24❭:\t 0.353553 + -0.000000 i\t == \t***                  [ 0.125000 ]     --- [ -0.00000 rad ]\n",
      "∣25❭:\t 0.353553 +  0.000000 i\t == \t***                  [ 0.125000 ]     --- [  0.00000 rad ]\n",
      "∣26❭:\t 0.353553 +  0.000000 i\t == \t***                  [ 0.125000 ]     --- [  0.00000 rad ]\n",
      "∣27❭:\t 0.353553 +  0.000000 i\t == \t***                  [ 0.125000 ]     --- [  0.00000 rad ]\n",
      "∣28❭:\t 0.000000 +  0.000000 i\t == \t*                    [ 0.000000 ]      /  [  0.75864 rad ]\n",
      "∣29❭:\t 0.000000 + -0.000000 i\t == \t*                    [ 0.000000 ]     -\\  [ -1.25741 rad ]\n",
      "∣30❭:\t 0.000000 + -0.000000 i\t == \t*                    [ 0.000000 ]      \\  [ -0.76284 rad ]\n",
      "∣31❭:\t 0.000000 + -0.000000 i\t == \t*                    [ 0.000000 ]      \\+ [ -0.54158 rad ]\n"
     ]
    },
    {
     "data": {
      "application/json": "{\"@type\":\"tuple\"}",
      "text/plain": [
       "()"
      ]
     },
     "execution_count": 13,
     "metadata": {},
     "output_type": "execute_result"
    }
   ],
   "source": [
    "%simulate PhaseEncoding"
   ]
  },
  {
   "cell_type": "markdown",
   "metadata": {},
   "source": [
    "### Example 5-6: Logic using CNOT gates"
   ]
  },
  {
   "cell_type": "code",
   "execution_count": 14,
   "metadata": {
    "scrolled": true
   },
   "outputs": [
    {
     "data": {
      "application/json": "[\"CNOTLogic\"]",
      "text/html": [
       "<ul><li>CNOTLogic</li></ul>"
      ],
      "text/plain": [
       "CNOTLogic"
      ]
     },
     "execution_count": 14,
     "metadata": {},
     "output_type": "execute_result"
    }
   ],
   "source": [
    "// Example 5-6: Logic using CNOT gates\n",
    "\n",
    "open Microsoft.Quantum.Diagnostics;\n",
    "open Microsoft.Quantum.Measurement;\n",
    "\n",
    "operation CNOTLogic () : Unit {\n",
    "    Message(\"c = ~c\");\n",
    "    using (c = Qubit()) {\n",
    "        Message($\"Input: c = {M(c)}\");\n",
    "        X(c);\n",
    "        Message($\"Output: c = {M(c)}\");\n",
    "        ResetAll([c]);\n",
    "    }\n",
    "    \n",
    "    Message(\"\");\n",
    "    Message(\"if (b) then c = ~c\");\n",
    "    using ((b, c) = (Qubit(), Qubit())) {\n",
    "        // initialize input\n",
    "        X(b);\n",
    "        Message($\"Input: b = {M(b)}, c = {M(c)}\");\n",
    "        \n",
    "        CNOT(b, c);\n",
    "        Message($\"Output: b = {M(b)}, c = {M(c)}\");\n",
    "\n",
    "        ResetAll([b, c]);\n",
    "    }\n",
    "    \n",
    "    Message(\"\");\n",
    "    Message(\"if (a and b) then c = ~c\");\n",
    "    using ((a, b, c) = (Qubit(), Qubit(), Qubit())) {\n",
    "        // initialize input\n",
    "        X(a);\n",
    "        X(b);\n",
    "        Message($\"Input: a = {M(a)}, b = {M(b)}, c = {M(c)}\");\n",
    "        \n",
    "        (Controlled X)([a, b], c);\n",
    "        Message($\"Output: a = {M(a)}, b = {M(b)}, c = {M(c)}\");\n",
    "\n",
    "        ResetAll([a, b, c]);\n",
    "    }\n",
    "}"
   ]
  },
  {
   "cell_type": "code",
   "execution_count": 15,
   "metadata": {
    "scrolled": false
   },
   "outputs": [
    {
     "name": "stdout",
     "output_type": "stream",
     "text": [
      "c = ~c\n",
      "Input: c = Zero\n",
      "Output: c = One\n",
      "\n",
      "if (b) then c = ~c\n",
      "Input: b = One, c = Zero\n",
      "Output: b = One, c = One\n",
      "\n",
      "if (a and b) then c = ~c\n",
      "Input: a = One, b = One, c = Zero\n",
      "Output: a = One, b = One, c = One\n"
     ]
    },
    {
     "data": {
      "application/json": "{\"@type\":\"tuple\"}",
      "text/plain": [
       "()"
      ]
     },
     "execution_count": 15,
     "metadata": {},
     "output_type": "execute_result"
    }
   ],
   "source": [
    "%simulate CNOTLogic"
   ]
  }
 ],
 "metadata": {
  "kernelspec": {
   "display_name": "Q#",
   "language": "qsharp",
   "name": "iqsharp"
  },
  "language_info": {
   "file_extension": ".qs",
   "mimetype": "text/x-qsharp",
   "name": "qsharp",
   "version": "0.4"
  }
 },
 "nbformat": 4,
 "nbformat_minor": 2
}
